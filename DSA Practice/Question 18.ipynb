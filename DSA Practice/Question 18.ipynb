{
 "cells": [
  {
   "cell_type": "markdown",
   "id": "f98c76e0-73eb-4983-9134-99358007dc36",
   "metadata": {},
   "source": [
    "## DAY 9\n",
    "## Question 18: Find K Closest Elements \n",
    "\n",
    "Given a sorted integer array arr, two integers k and x, return the k closest integers to x in the\n",
    "array. The result should also be sorted in ascending order.\n",
    "\n",
    "An integer a is closer to x than an integer b if:\n",
    "\n",
    "- • a -x/ < b -x/, or\n",
    "- • a -x/= b-x anda <b\n",
    "  \n",
    "Test Cases\n",
    "\n",
    "Example 1:\n",
    "\n",
    "Input: arr = [1,2,3,4,5], k = 4, x = 3\n",
    "\n",
    "Output: [1,2,3,4]\n",
    "\n",
    "Example 2:\n",
    "\n",
    "Input: arr = [1,1,2,3,4,5], k = 4, x = -1\n",
    "\n",
    "Output: [1,1,2,3]"
   ]
  },
  {
   "cell_type": "code",
   "execution_count": 6,
   "id": "0f2213aa-6e34-4615-95eb-ea87d41fe298",
   "metadata": {},
   "outputs": [
    {
     "name": "stdout",
     "output_type": "stream",
     "text": [
      "[1, 2, 3, 4]\n",
      "[1, 1, 2, 3]\n"
     ]
    }
   ],
   "source": [
    "def find_closest_elements(arr, k, x):\n",
    "    # Sort based on absolute difference, then by value\n",
    "    arr.sort(key=lambda num: (abs(num - x), num))\n",
    "    \n",
    "    # Pick the first k elements and sort them\n",
    "    return sorted(arr[:k])\n",
    "\n",
    "# Test Cases\n",
    "print(find_closest_elements([1,2,3,4,5], 4, 3))    # Output: [1,2,3,4]\n",
    "print(find_closest_elements([1,1,2,3,4,5], 4, -1)) # Output: [1,1,2,3]\n"
   ]
  },
  {
   "cell_type": "code",
   "execution_count": null,
   "id": "02f30e34-865e-419f-93f9-d691a3d9210b",
   "metadata": {},
   "outputs": [],
   "source": []
  }
 ],
 "metadata": {
  "kernelspec": {
   "display_name": "Python [conda env:base] *",
   "language": "python",
   "name": "conda-base-py"
  },
  "language_info": {
   "codemirror_mode": {
    "name": "ipython",
    "version": 3
   },
   "file_extension": ".py",
   "mimetype": "text/x-python",
   "name": "python",
   "nbconvert_exporter": "python",
   "pygments_lexer": "ipython3",
   "version": "3.12.7"
  }
 },
 "nbformat": 4,
 "nbformat_minor": 5
}

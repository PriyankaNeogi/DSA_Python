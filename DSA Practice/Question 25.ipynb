{
 "cells": [
  {
   "cell_type": "markdown",
   "id": "399d5088-b87b-4263-9855-0f556501dcc4",
   "metadata": {},
   "source": [
    "\n",
    "## DAY 12\n",
    "## Question 25: Maximum Consecutive Ones\n",
    "\n",
    "Given a binary array nums, return the maximum number of consecutive 1's in the array if\n",
    "you can flip at most one O.\n",
    "\n",
    "Test Cases\n",
    "\n",
    "Example 1:\n",
    "\n",
    "Input: nums = [1,0,1,1,0]\n",
    "\n",
    "Output: 4\n",
    "\n",
    "Explanation:\n",
    "- If we flip the first zero, nums becomes [1,1,1,1,0] and we have 4 consecutive ones.\n",
    "- If we flip the second zero, nums becomes [1,0,1,1,1] and we have 3 consecutive ones.\n",
    "\n",
    "The max number of consecutive ones is 4.\n",
    "\n",
    "Example 2:\n",
    "\n",
    "Input: nums = [1,0,1,1,0,1]\n",
    "\n",
    "Output: 4\n",
    "\n",
    "Explanation:\n",
    "- If we flip the first zero, nums becomes [1,1,1,1,0,1] and we have 4 consecutive ones.\n",
    "- If we flip the second zero, nums becomes [1,0,1,1,1,1]"
   ]
  },
  {
   "cell_type": "code",
   "execution_count": 11,
   "id": "e6737114-8aab-42a1-89bf-419b874c86c2",
   "metadata": {},
   "outputs": [
    {
     "name": "stdout",
     "output_type": "stream",
     "text": [
      "4\n",
      "4\n"
     ]
    }
   ],
   "source": [
    "def max_ones(nums):\n",
    "    left = 0\n",
    "    max_length = 0\n",
    "    zero_count = 0\n",
    "\n",
    "    for right in range(len(nums)):\n",
    "        if nums[right] == 0:\n",
    "            zero_count += 1\n",
    "\n",
    "        while zero_count > 1:\n",
    "            if nums[left] == 0:\n",
    "                zero_count -= 1\n",
    "            left += 1  # Move the left pointer regardless\n",
    "\n",
    "        max_length = max(max_length, right - left + 1)\n",
    "\n",
    "    return max_length  # Proper indentation for return statement\n",
    "\n",
    "print(max_ones([1,0,1,1,0]))   # Output: 4\n",
    "print(max_ones([1,0,1,1,0,1])) # Output: 4\n"
   ]
  },
  {
   "cell_type": "code",
   "execution_count": null,
   "id": "0e331a18-ddca-48f5-b9ce-33aab12766a7",
   "metadata": {},
   "outputs": [],
   "source": []
  }
 ],
 "metadata": {
  "kernelspec": {
   "display_name": "Python [conda env:base] *",
   "language": "python",
   "name": "conda-base-py"
  },
  "language_info": {
   "codemirror_mode": {
    "name": "ipython",
    "version": 3
   },
   "file_extension": ".py",
   "mimetype": "text/x-python",
   "name": "python",
   "nbconvert_exporter": "python",
   "pygments_lexer": "ipython3",
   "version": "3.12.7"
  }
 },
 "nbformat": 4,
 "nbformat_minor": 5
}

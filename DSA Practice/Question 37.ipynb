{
 "cells": [
  {
   "cell_type": "markdown",
   "id": "284afff9-2ec2-4aec-9c7f-5fc58325afb8",
   "metadata": {},
   "source": [
    "https://leetcode.com/problems/word-pattern/description/?envType=study-plan-v2&envId=top-interview-150\n",
    "\n",
    "Given a pattern and a string s, find if s follows the same pattern.\n",
    "\n",
    "Here follow means a full match, such that there is a bijection between a letter in pattern and a non-empty word in s. Specifically:\n",
    "\n",
    "Each letter in pattern maps to exactly one unique word in s.\n",
    "Each unique word in s maps to exactly one letter in pattern.\n",
    "No two letters map to the same word, and no two words map to the same letter.\n",
    " \n",
    "\n",
    "Example 1:\n",
    "\n",
    "Input: pattern = \"abba\", s = \"dog cat cat dog\"\n",
    "\n",
    "Output: true\n",
    "\n",
    "Explanation:\n",
    "\n",
    "The bijection can be established as:\n",
    "\n",
    "'a' maps to \"dog\".\n",
    "'b' maps to \"cat\".\n",
    "Example 2:\n",
    "\n",
    "Input: pattern = \"abba\", s = \"dog cat cat fish\"\n",
    "\n",
    "Output: false\n",
    "\n",
    "Example 3:\n",
    "\n",
    "Input: pattern = \"aaaa\", s = \"dog cat cat dog\"\n",
    "\n",
    "Output: false\n",
    "\n",
    " \n",
    "\n",
    "Constraints:\n",
    "\n",
    "1 <= pattern.length <= 300\n",
    "pattern contains only lower-case English letters.\n",
    "1 <= s.length <= 3000\n",
    "s contains only lowercase English letters and spaces ' '.\n",
    "s does not contain any leading or trailing spaces.\n",
    "All the words in s are separated by a single space.\n"
   ]
  },
  {
   "cell_type": "code",
   "execution_count": 8,
   "id": "ad0a6a4a-f021-4300-903e-2f2c81c9e466",
   "metadata": {},
   "outputs": [
    {
     "name": "stdout",
     "output_type": "stream",
     "text": [
      "True\n",
      "False\n"
     ]
    }
   ],
   "source": [
    "def match_pattern(p, s):\n",
    "    w = s.split()\n",
    "    if len(p) != len(w):\n",
    "        return False\n",
    "    \n",
    "    m1, m2 = {}, {}\n",
    "    \n",
    "    for c, word in zip(p, w):\n",
    "        if c in m1:\n",
    "            if m1[c] != word:\n",
    "                return False\n",
    "        else:\n",
    "            if word in m2:\n",
    "                return False\n",
    "            m1[c] = word\n",
    "            m2[word] = c\n",
    "            \n",
    "    return True\n",
    "\n",
    "# Test cases\n",
    "print(match_pattern(\"abba\", \"dog cat cat dog\"))  # True\n",
    "print(match_pattern(\"abba\", \"dog cat cat fish\"))  # False"
   ]
  },
  {
   "cell_type": "code",
   "execution_count": null,
   "id": "f11b2989-1b5a-43c6-80fa-0adeb2abbe00",
   "metadata": {},
   "outputs": [],
   "source": []
  }
 ],
 "metadata": {
  "kernelspec": {
   "display_name": "Python [conda env:base] *",
   "language": "python",
   "name": "conda-base-py"
  },
  "language_info": {
   "codemirror_mode": {
    "name": "ipython",
    "version": 3
   },
   "file_extension": ".py",
   "mimetype": "text/x-python",
   "name": "python",
   "nbconvert_exporter": "python",
   "pygments_lexer": "ipython3",
   "version": "3.12.7"
  }
 },
 "nbformat": 4,
 "nbformat_minor": 5
}

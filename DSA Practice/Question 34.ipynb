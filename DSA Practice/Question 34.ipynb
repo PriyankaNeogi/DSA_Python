{
 "cells": [
  {
   "cell_type": "markdown",
   "id": "f17ab978-5a2c-4cb6-9cef-58305d1825bc",
   "metadata": {},
   "source": [
    "https://leetcode.com/problems/minimum-time-to-repair-cars/description/\n",
    "\n",
    "You are given an integer array ranks representing the ranks of some mechanics. ranksi is the rank of the ith mechanic. A mechanic with a rank r can repair n cars in r * n2 minutes.\n",
    "\n",
    "You are also given an integer cars representing the total number of cars waiting in the garage to be repaired.\n",
    "\n",
    "Return the minimum time taken to repair all the cars.\n",
    "\n",
    "Note: All the mechanics can repair the cars simultaneously.\n",
    "\n",
    " \n",
    "\n",
    "Example 1:\n",
    "\n",
    "Input: ranks = [4,2,3,1], cars = 10\n",
    "Output: 16\n",
    "Explanation: \n",
    "- The first mechanic will repair two cars. The time required is 4 * 2 * 2 = 16 minutes.\n",
    "- The second mechanic will repair two cars. The time required is 2 * 2 * 2 = 8 minutes.\n",
    "- The third mechanic will repair two cars. The time required is 3 * 2 * 2 = 12 minutes.\n",
    "- The fourth mechanic will repair four cars. The time required is 1 * 4 * 4 = 16 minutes.\n",
    "It can be proved that the cars cannot be repaired in less than 16 minutes.​​​​​\n",
    "Example 2:\n",
    "\n",
    "Input: ranks = [5,1,8], cars = 6\n",
    "Output: 16\n",
    "Explanation: \n",
    "- The first mechanic will repair one car. The time required is 5 * 1 * 1 = 5 minutes.\n",
    "- The second mechanic will repair four cars. The time required is 1 * 4 * 4 = 16 minutes.\n",
    "- The third mechanic will repair one car. The time required is 8 * 1 * 1 = 8 minutes.\n",
    "It can be proved that the cars cannot be repaired in less than 16 minutes.​​​​​\n",
    " \n",
    "\n",
    "Constraints:\n",
    "\n",
    "1 <= ranks.length <= 105\n",
    "1 <= ranks[i] <= 100\n",
    "1 <= cars <= 106"
   ]
  },
  {
   "cell_type": "code",
   "execution_count": 1,
   "id": "0f01e9c5-27e1-42b5-bf30-54872e595eb0",
   "metadata": {},
   "outputs": [
    {
     "name": "stdout",
     "output_type": "stream",
     "text": [
      "16\n",
      "16\n"
     ]
    }
   ],
   "source": [
    "import math\n",
    "\n",
    "def minRepairTime(ranks, cars):\n",
    "    time = 1  ,
    "    while True:\n",
    "        total_cars = 0\n",
    "        for r in ranks:\n",
    "            total_cars += int(math.sqrt(time // r))  ,
    "        if total_cars >= cars:  ,
    "            return time\n",
    "        time += 1  ,
    "\n",
    "# Test cases\n",
    "print(minRepairTime([4,2,3,1], 10))  # Output: 16\n",
    "print(minRepairTime([5,1,8], 6))  # Output: 16"
   ]
  },
  {
   "cell_type": "code",
   "execution_count": 5,
   "id": "1cf8ce92-aa27-41db-a921-7d5e9d0f2877",
   "metadata": {},
   "outputs": [
    {
     "name": "stdout",
     "output_type": "stream",
     "text": [
      "16\n",
      "16\n"
     ]
    }
   ],
   
 "metadata": {
  "kernelspec": {
   "display_name": "Python [conda env:base] *",
   "language": "python",
   "name": "conda-base-py"
  },
  "language_info": {
   "codemirror_mode": {
    "name": "ipython",
    "version": 3
   },
   "file_extension": ".py",
   "mimetype": "text/x-python",
   "name": "python",
   "nbconvert_exporter": "python",
   "pygments_lexer": "ipython3",
   "version": "3.12.7"
  }
 },
 "nbformat": 4,
 "nbformat_minor": 5
}

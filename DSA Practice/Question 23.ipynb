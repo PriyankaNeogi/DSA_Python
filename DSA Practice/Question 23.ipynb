{
 "cells": [
  {
   "cell_type": "markdown",
   "id": "729a709f-49a8-45ee-927e-bc12d08192d9",
   "metadata": {},
   "source": [
    "## Question 23: Nested List + Nested Dictionary + Comprehension\n",
    "\n",
    "Problem Statement:\n",
    "\n",
    "You're given a nested list of dictionaries, where each dictionary represents a student's\n",
    "performance in multiple subjects across multiple semesters. Write a code that calculates the\n",
    "total marks in all semesters only for those students who scored more than 80 in every\n",
    "subject of every semester.\n",
    "\n",
    "Input:\n",
    "\n",
    "students = [\n",
    "{\n",
    "'name': 'Amit',\n",
    "'semesters': [\n",
    "{'Math': 88, 'Science': 91, 'English': 85},\n",
    "{'Math': 90, 'Science': 92, 'English': 84}\n",
    "]\n",
    "},\n",
    "{\n",
    "'name': 'Pooja',\n",
    "'semesters': [\n",
    "{'Math': 79, 'Science': 95, 'English': 88},\n",
    "{'Math': 82, 'Science': 81, 'English': 85}\n",
    "]\n",
    "},\n",
    "{\n",
    "'name': 'Ravi',\n",
    "'semesters': [\n",
    "{'Math': 87, 'Science': 88, 'English': 89},\n",
    "{'Math': 91, 'Science': 90, 'English': 93}\n",
    "]\n",
    "}\n",
    "]\n",
    "\n",
    "Expected Output:\n",
    "{'Amit': 530, 'Ravi': 539}"
   ]
  },
  {
   "cell_type": "code",
   "execution_count": 7,
   "id": "6ebf9417-d356-4bb0-ba58-13f3b479b1e5",
   "metadata": {},
   "outputs": [
    {
     "name": "stdout",
     "output_type": "stream",
     "text": [
      "{'Amit': 530, 'Ravi': 538}\n"
     ]
    }
   ],
   "source": [
    "students = [\n",
    "    {\n",
    "        'name': 'Amit',\n",
    "        'semesters': [\n",
    "            {'Math': 88, 'Science': 91, 'English': 85},\n",
    "            {'Math': 90, 'Science': 92, 'English': 84}\n",
    "        ]\n",
    "    },\n",
    "    {\n",
    "        'name': 'Pooja',\n",
    "        'semesters': [\n",
    "            {'Math': 79, 'Science': 95, 'English': 88},\n",
    "            {'Math': 82, 'Science': 81, 'English': 85}\n",
    "        ]\n",
    "    },\n",
    "    {\n",
    "        'name': 'Ravi',\n",
    "        'semesters': [\n",
    "            {'Math': 87, 'Science': 88, 'English': 89},\n",
    "            {'Math': 91, 'Science': 90, 'English': 93}\n",
    "        ]\n",
    "    }\n",
    "]\n",
    "\n",
    "result = {\n",
    "    student['name']: sum(\n",
    "        sum(subject.values()) for subject in student['semesters']\n",
    "    )\n",
    "    for student in students\n",
    "    if all(all(mark > 80 for mark in subject.values()) for subject in student['semesters'])\n",
    "}\n",
    "\n",
    "print(result)"
   ]
  },
  {
   "cell_type": "code",
   "execution_count": null,
   "id": "3e4c2358-9673-4e46-afee-6111c3f41fd3",
   "metadata": {},
   "outputs": [],
   "source": []
  },
  {
   "cell_type": "code",
   "execution_count": null,
   "id": "d9e6c39a-62cc-4e99-9751-a243673f7277",
   "metadata": {},
   "outputs": [],
   "source": []
  }
 ],
 "metadata": {
  "kernelspec": {
   "display_name": "Python [conda env:base] *",
   "language": "python",
   "name": "conda-base-py"
  },
  "language_info": {
   "codemirror_mode": {
    "name": "ipython",
    "version": 3
   },
   "file_extension": ".py",
   "mimetype": "text/x-python",
   "name": "python",
   "nbconvert_exporter": "python",
   "pygments_lexer": "ipython3",
   "version": "3.12.7"
  }
 },
 "nbformat": 4,
 "nbformat_minor": 5
}

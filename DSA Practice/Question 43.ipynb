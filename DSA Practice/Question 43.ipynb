{
 "cells": [
  {
   "cell_type": "markdown",
   "id": "5b96c43f-3e0f-47c6-b259-6213edfd40b8",
   "metadata": {},
   "source": [
    "https://leetcode.com/problems/longest-word-in-dictionary-through-deleting/description/?envType=problem-list-v2&envId=sorting\n",
    "\n",
    "Given a string s and a string array dictionary, return the longest string in the dictionary that can be formed by deleting some of the given string characters. If there is more than one possible result, return the longest word with the smallest lexicographical order. If there is no possible result, return the empty string.\n",
    "\n",
    " \n",
    "\n",
    "Example 1:\n",
    "\n",
    "Input: s = \"abpcplea\", dictionary = [\"ale\",\"apple\",\"monkey\",\"plea\"]\n",
    "Output: \"apple\"\n",
    "Example 2:\n",
    "\n",
    "Input: s = \"abpcplea\", dictionary = [\"a\",\"b\",\"c\"]\n",
    "Output: \"a\"\n",
    " \n",
    "\n",
    "Constraints:\n",
    "\n",
    "1 <= s.length <= 1000\n",
    "1 <= dictionary.length <= 1000\n",
    "1 <= dictionary[i].length <= 1000\n",
    "s and dictionary[i] consist of lowercase English letters."
   ]
  },
  {
   "cell_type": "code",
   "execution_count": 14,
   "id": "9cbde010-fcd7-453c-9f9f-23db5d0b9784",
   "metadata": {},
   "outputs": [
    {
     "name": "stdout",
     "output_type": "stream",
     "text": [
      "apple\n",
      "a\n"
     ]
    }
   ],
   "source": [
    "def find_longest_word(s, words):\n",
    "    def can_form(word, s):\n",
    "        index = 0\n",
    "        for char in s:\n",
    "            if index < len(word) and word[index] == char:\n",
    "                index += 1\n",
    "        return index == len(word)\n",
    "\n",
    "    best = \"\"\n",
    "    for word in words:\n",
    "        if can_form(word, s):\n",
    "            if len(word) > len(best) or (len(word) == len(best) and word < best):\n",
    "                best = word\n",
    "    return best\n",
    "\n",
    "s = \"abpcplea\"\n",
    "dictionary = [\"ale\", \"apple\", \"monkey\", \"plea\"]\n",
    "print(find_longest_word(s, dictionary))  # Output: \"apple\"\n",
    "\n",
    "s = \"abpcplea\"\n",
    "dictionary = [\"a\", \"b\", \"c\"]\n",
    "print(find_longest_word(s, dictionary))  # Output: \"a\""
   ]
  },
  {
   "cell_type": "code",
   "execution_count": null,
   "id": "8bdff34b-8c55-4979-ad7b-fa86848cbe58",
   "metadata": {},
   "outputs": [],
   "source": []
  },
  {
   "cell_type": "code",
   "execution_count": null,
   "id": "e1a1e200-cf0b-42cf-8e94-e194300e2a5b",
   "metadata": {},
   "outputs": [],
   "source": []
  }
 ],
 "metadata": {
  "kernelspec": {
   "display_name": "Python [conda env:base] *",
   "language": "python",
   "name": "conda-base-py"
  },
  "language_info": {
   "codemirror_mode": {
    "name": "ipython",
    "version": 3
   },
   "file_extension": ".py",
   "mimetype": "text/x-python",
   "name": "python",
   "nbconvert_exporter": "python",
   "pygments_lexer": "ipython3",
   "version": "3.12.7"
  }
 },
 "nbformat": 4,
 "nbformat_minor": 5
}

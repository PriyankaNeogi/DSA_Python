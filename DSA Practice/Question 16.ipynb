{
 "cells": [
  {
   "cell_type": "markdown",
   "id": "c13e549d-7833-4c13-bc78-752ca885e2c7",
   "metadata": {},
   "source": [
    "## DAY 8\n",
    "## Question 16: Coin Change \n",
    "\n",
    "You are given an integer array coins representing coins of different denominations and an\n",
    "integer amount representing a total amount of money. Return the fewest number of coins that you need to make up that amount. If that amoun\n",
    "of money cannot be made up by any combination of the coins, return -1.\n",
    "\n",
    "You may assume that you have an infinite number of each kind of coin.\n",
    "\n",
    "Test Cases\n",
    "\n",
    "Example 1:\n",
    "\n",
    "Input: coins = [1,2,5], amount = 11\n",
    "\n",
    "Output: 3\n",
    "\n",
    "Explanation: 11 = 5+5+1\n",
    "\n",
    "Example 2:\n",
    "\n",
    "Input: coins = [2], amount = 3\n",
    "\n",
    "Output: -1\n",
    "\n",
    "Example 3:\n",
    "\n",
    "Input: coins = [1], amount = 0"
   ]
  },
  {
   "cell_type": "code",
   "execution_count": 34,
   "id": "443abab8-73d2-4ab9-891b-5d82d86a367e",
   "metadata": {},
   "outputs": [
    {
     "name": "stdout",
     "output_type": "stream",
     "text": [
      "3\n",
      "-1\n",
      "0\n"
     ]
    }
   ],
   "source": [
    "def min_coins(coins, amount):\n",
    "    if amount == 0:\n",
    "        return 0\n",
    "    if amount < 0:\n",
    "        return -1  \n",
    "\n",
    "    min_count = float('inf')\n",
    "    \n",
    "    for c in coins:\n",
    "        result = min_coins(coins, amount - c)\n",
    "        if result >= 0:  \n",
    "            min_count = min(min_count, result + 1)\n",
    "\n",
    "    return min_count if min_count != float('inf') else -1  \n",
    "\n",
    "# Test Cases\n",
    "print( min_coins([1, 2, 5], 11))  # Expected Output: 3\n",
    "print( min_coins([2], 3))         # Expected Output: -1\n",
    "print( min_coins([1], 0))         # Expected Output: 0\n"
   ]
  },
  {
   "cell_type": "code",
   "execution_count": null,
   "id": "b15386d1-cb0c-40a4-b8c8-0d000c842753",
   "metadata": {},
   "outputs": [],
   "source": []
  }
 ],
 "metadata": {
  "kernelspec": {
   "display_name": "Python [conda env:base] *",
   "language": "python",
   "name": "conda-base-py"
  },
  "language_info": {
   "codemirror_mode": {
    "name": "ipython",
    "version": 3
   },
   "file_extension": ".py",
   "mimetype": "text/x-python",
   "name": "python",
   "nbconvert_exporter": "python",
   "pygments_lexer": "ipython3",
   "version": "3.12.7"
  }
 },
 "nbformat": 4,
 "nbformat_minor": 5
}

{
 "cells": [
  {
   "cell_type": "markdown",
   "id": "6782a60c-11d2-4f5c-8e57-75c9f5c79b20",
   "metadata": {},
   "source": [
    "## Day 2\n",
    "## Question 4: Find First and Last Position of Element in Sorted Array. \n",
    "\n",
    "Given an array of integers nums sorted in non-decreasing order, find the starting and ending\n",
    "position of a given target value.\n",
    "\n",
    "If target is not found in the array, return [-1, -1].\n",
    "\n",
    "Test Cases\n",
    "\n",
    "Example 1:\n",
    "\n",
    "Input: nums = [5,7,7,8,8,10], target = 8\n",
    "\n",
    "Output: [3,4]\n",
    "\n",
    "Example 2:\n",
    "\n",
    "Input: nums = [5,7,7,8,8,10], target = 6\n",
    "\n",
    "Output: [-1,-1]\n",
    "\n",
    "Example 3:\n",
    "\n",
    "Input: nums = [], target = 0\n",
    "\n",
    "Output: [-1,-1]"
   ]
  },
  {
   "cell_type": "code",
   "execution_count": 23,
   "id": "95ec6b36-a9b5-4ad7-82f5-5c31b811c80c",
   "metadata": {},
   "outputs": [
    {
     "name": "stdout",
     "output_type": "stream",
     "text": [
      "[3, 4]\n",
      "[-1, -1]\n",
      "[-1, -1]\n"
     ]
    }
   ],
   "source": [
    "# Function for finding first and last occurrence of x\n",
    "def find_fist_last_pos(arr, x):\n",
    "    n = len(arr)\n",
    "    \n",
    "    # Initialize first and last index\n",
    "    first = -1\n",
    "    last = -1\n",
    "    \n",
    "    for i in range(n):\n",
    "        \n",
    "        # If x is different, continue\n",
    "        if x != arr[i]:\n",
    "            continue\n",
    "        \n",
    "        # If first occurrence found\n",
    "        if first == -1:\n",
    "            first = i\n",
    "        \n",
    "        # keep Updating last occurrence\n",
    "        last = i\n",
    "    res = [first, last]\n",
    "    return res\n",
    "\n",
    "\n",
    "#test cases\n",
    "nums = [5,7,7,8,8,10]\n",
    "target = 8\n",
    "print(find_fist_last_pos(nums, target))\n",
    "\n",
    "nums = [5,7,7,8,8,10]\n",
    "target = 6\n",
    "print(find_fist_last_pos(nums, target))\n",
    "\n",
    "nums = []\n",
    "target = 0\n",
    "print(find_fist_last_pos(nums, target))\n",
    "\n"
   ]
  },
  {
   "cell_type": "code",
   "execution_count": null,
   "id": "03e5b3b3-7b8a-4276-9ef2-48c9a2362c4c",
   "metadata": {},
   "outputs": [],
   "source": []
  }
 ],
 "metadata": {
  "kernelspec": {
   "display_name": "Python [conda env:base] *",
   "language": "python",
   "name": "conda-base-py"
  },
  "language_info": {
   "codemirror_mode": {
    "name": "ipython",
    "version": 3
   },
   "file_extension": ".py",
   "mimetype": "text/x-python",
   "name": "python",
   "nbconvert_exporter": "python",
   "pygments_lexer": "ipython3",
   "version": "3.12.7"
  }
 },
 "nbformat": 4,
 "nbformat_minor": 5
}

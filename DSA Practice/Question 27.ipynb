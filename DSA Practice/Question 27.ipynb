{
 "cells": [
  {
   "cell_type": "markdown",
   "id": "0bbcdf1f-8db8-42a8-a11c-93b982c0b6ee",
   "metadata": {},
   "source": [
    "## Question 27: Job Scheduling with Priority and Dependencies\n",
    "\n",
    "Problem Statement:\n",
    "\n",
    "You’re given a list of jobs. Each job has:\n",
    "- a `name`,\n",
    "- a `priority` (higher number = higher priority),\n",
    "- a list of other jobs it depends on (must be done first).\n",
    "- \n",
    "You need to write a function `schedule_jobs(jobs: List[Dict]) -> List[str]` that:\n",
    "\n",
    "- Runs jobs only after all their dependencies are complete.\n",
    "- Picks the job with the highest priority (among available ones).\n",
    "- If a job cannot be scheduled because one of its dependencies is missing forever (i.e., not in\n",
    "the list), skip it.\n",
    "\n",
    "Input:\n",
    "\n",
    "jobs = [\n",
    "{\"name\": \"jobA\", \"priority\": 4, \"depends_on\": [\"jobB\"]},\n",
    "{\"name\": \"jobB\", \"priority\": 5, \"depends_on\": []},\n",
    "{\"name\": \"jobC\", \"priority\": 3, \"depends_on\": [\"jobB\", \"jobA\"]},\n",
    "{\"name\": \"jobD\", \"priority\": 6, \"depends_on\": [\"jobX\"]} # jobX\n",
    "doesn’t exist\n",
    "]\n",
    "\n",
    "Expected Output:\n",
    "\n",
    "['jobB', 'jobA', 'jobC']\n",
    "\n",
    "Explanation:\n",
    "\n",
    "- `jobB` has no dependency → scheduled first.\n",
    "- `jobA` depends only on `jobB` (done) → scheduled next.\n",
    "- `jobC` depends on both `jobB` and `jobA` (both done) → scheduled.\n",
    "- `jobD` depends on `jobX` (not found) → skipped.\n",
    "  \n",
    "Logic Hint:\n",
    "\n",
    "Use a loop to repeatedly check which jobs can be added (whose dependencies are all in the\n",
    "scheduled list). At each step, pick the one with highest priority among them."
   ]
  },
  {
   "cell_type": "code",
   "execution_count": 1,
   "id": "df6e6020-204a-4484-a307-9dcedb335dfb",
   "metadata": {},
   "outputs": [
    {
     "name": "stdout",
     "output_type": "stream",
     "text": [
      "['jobB', 'jobA', 'jobC']\n"
     ]
    }
   ],
   "source": [
    "def schedule_jobs(jobs):\n",
    "    job_map = {job[\"name\"]: job for job in jobs}\n",
    "    completed = set()\n",
    "    scheduled_order = []\n",
    "\n",
    "    def can_run(job):\n",
    "        return all(dep in completed for dep in job[\"depends_on\"])\n",
    "\n",
    "    while len(completed) < len(jobs):\n",
    "        available_jobs = [job for job in jobs if job[\"name\"] not in completed and can_run(job)]\n",
    "        \n",
    "        if not available_jobs:\n",
    "            break\n",
    "\n",
    "        best_job = max(available_jobs, key=lambda j: j[\"priority\"])\n",
    "        scheduled_order.append(best_job[\"name\"])\n",
    "        completed.add(best_job[\"name\"])\n",
    "\n",
    "    return scheduled_order\n",
    "\n",
    "jobs = [\n",
    "    {\"name\": \"jobA\", \"priority\": 4, \"depends_on\": [\"jobB\"]},\n",
    "    {\"name\": \"jobB\", \"priority\": 5, \"depends_on\": []},\n",
    "    {\"name\": \"jobC\", \"priority\": 3, \"depends_on\": [\"jobB\", \"jobA\"]},\n",
    "    {\"name\": \"jobD\", \"priority\": 6, \"depends_on\": [\"jobX\"]}\n",
    "]\n",
    "\n",
    "print(schedule_jobs(jobs))\n"
   ]
  },
  {
   "cell_type": "code",
   "execution_count": null,
   "id": "9eea5fe8-3a0c-42a9-b38f-742d85c76097",
   "metadata": {},
   "outputs": [],
   "source": []
  }
 ],
 "metadata": {
  "kernelspec": {
   "display_name": "Python [conda env:base] *",
   "language": "python",
   "name": "conda-base-py"
  },
  "language_info": {
   "codemirror_mode": {
    "name": "ipython",
    "version": 3
   },
   "file_extension": ".py",
   "mimetype": "text/x-python",
   "name": "python",
   "nbconvert_exporter": "python",
   "pygments_lexer": "ipython3",
   "version": "3.12.7"
  }
 },
 "nbformat": 4,
 "nbformat_minor": 5
}

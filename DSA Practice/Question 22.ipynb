{
 "cells": [
  {
   "cell_type": "markdown",
   "id": "0733c896-7330-44f1-a9cc-801f400e326c",
   "metadata": {},
   "source": [
    "\n",
    "## DAY 11\n",
    "## Question 22: Abbrevation\n",
    "\n",
    "A string can be abbreviated by replacing any number of non-adjacent, non-empty\n",
    "substrings with their lengths. The lengths should not have leading zeros. Given a string word and an abbreviation abbr, return whether the string matches the\n",
    "given abbreviation.\n",
    "A substring is a contiguous non-empty sequence of characters within a string.\n",
    "\n",
    "Test Cases\n",
    "\n",
    "Example 1:\n",
    "\n",
    "Input: word = \"internationalization\"\n",
    "', abbr= \"i12iz4n\"\n",
    "\n",
    "Output: true Explanation: The word \"internationalization\" can be abbreviated as \"i12z4n\" (\"international iz atio\n",
    "n\").\n",
    "\n",
    "Example 2:\n",
    "\n",
    "Input: word = \"apple\", abbr = \"a2e\"\n",
    "\n",
    "Output: false\n",
    "\n",
    "Explanation: The word \"apple\" cannot be abbreviated as \"a2e\"."
   ]
  },
  {
   "cell_type": "code",
   "execution_count": 6,
   "id": "b3451267-e04b-42dd-b1b1-55876ca077a2",
   "metadata": {},
   "outputs": [
    {
     "name": "stdout",
     "output_type": "stream",
     "text": [
      "True\n",
      "False\n"
     ]
    }
   ],
   "source": [
    "def valid_abbr(word, abbr):\n",
    "    i, j = 0, 0\n",
    "    while i < len(word) and j < len(abbr):\n",
    "        if abbr[j].isdigit():\n",
    "            if abbr[j] == '0':  \n",
    "                return False  \n",
    "            num = 0  \n",
    "            while j < len(abbr) and abbr[j].isdigit():\n",
    "                num = num * 10 + int(abbr[j])\n",
    "                j += 1\n",
    "            i += num  \n",
    "        else:\n",
    "            if i >= len(word) or word[i] != abbr[j]:  \n",
    "                return False  \n",
    "            i += 1  \n",
    "            j += 1  \n",
    "\n",
    "    return i == len(word) and j == len(abbr)  \n",
    "\n",
    "# Test Cases\n",
    "print(valid_abbr(\"internationalization\", \"i12iz4n\"))  # Output: True\n",
    "print(valid_abbr(\"apple\", \"a2e\"))  # Output: False"
   ]
  },
  {
   "cell_type": "code",
   "execution_count": null,
   "id": "1c5b6337-6c7d-4098-9517-8e1beeda2f09",
   "metadata": {},
   "outputs": [],
   "source": []
  }
 ],
 "metadata": {
  "kernelspec": {
   "display_name": "Python [conda env:base] *",
   "language": "python",
   "name": "conda-base-py"
  },
  "language_info": {
   "codemirror_mode": {
    "name": "ipython",
    "version": 3
   },
   "file_extension": ".py",
   "mimetype": "text/x-python",
   "name": "python",
   "nbconvert_exporter": "python",
   "pygments_lexer": "ipython3",
   "version": "3.12.7"
  }
 },
 "nbformat": 4,
 "nbformat_minor": 5
}

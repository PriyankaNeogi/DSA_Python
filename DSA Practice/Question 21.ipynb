{
 "cells": [
  {
   "cell_type": "markdown",
   "id": "7f12e77f-218a-48a4-8122-349e114c7b2b",
   "metadata": {},
   "source": [
    "\n",
    "## DAY 11\n",
    "## Question 21: Remove Duplicates from Sorted Array. \n",
    "\n",
    "Given an integer array nums sorted in non-decreasing order, remove some duplicates in- place such that each unique element appears at most twice. The relative order of the\n",
    "elements should be kept the same. Since it is impossible to change the length of the array in some languages, you must instead have the result be placed in the first part of the array nums. More formally, if there are k elements after removing the duplicates, then the first k elements of nums should hold the\n",
    "final result. It does not matter what you leave beyond the first k elements.\n",
    "\n",
    "Return k after placing the final result in the first k slots of nums.\n",
    "\n",
    "Test Cases\n",
    "\n",
    "Example 1:\n",
    "\n",
    "Input: nums = [1,1,1,2,2,3]\n",
    "\n",
    "Output: 5, nums = [1,1,2,2,3,_]\n",
    "\n",
    "Explanation: Your function should return k = 5, with the first five elements of nums being 1, 1, 2, 2 and 3 respectively.\n",
    "It does not matter what you leave beyond the returned k (hence they are underscores).\n",
    "\n",
    "Example 2:\n",
    "\n",
    "Input: nums = [0,0,1,1,1,1,2,3,3]\n",
    "\n",
    "Output: 7, nums = [0,0,1,1,2,3,3,_,_]\n",
    "\n",
    "Explanation: Your function should return k = 7, with the first seven elements of nums being 0,0,1,1,2,3,3 respectively. leave beyond k are underscores."
   ]
  },
  {
   "cell_type": "code",
   "execution_count": 4,
   "id": "5ed3f320-2718-4eaa-a14b-34a737f769a0",
   "metadata": {},
   "outputs": [
    {
     "name": "stdout",
     "output_type": "stream",
     "text": [
      "5 [1, 1, 2, 2, 3]\n",
      "7 [0, 0, 1, 1, 2, 3, 3]\n"
     ]
    }
   ],
   "source": [
    "def remove_dups(nums):\n",
    "    if len(nums) <= 2:\n",
    "        return len(nums)\n",
    "\n",
    "    i = 2\n",
    "    for j in range(2, len(nums)):\n",
    "        if nums[j] != nums[i - 2]:\n",
    "            nums[i] = nums[j]\n",
    "            i += 1\n",
    "\n",
    "    return i\n",
    "\n",
    "nums1 = [1, 1, 1, 2, 2, 3]\n",
    "k1 = remove_dups(nums1)\n",
    "print(k1, nums1[:k1])\n",
    "\n",
    "nums2 = [0, 0, 1, 1, 1, 1, 2, 3, 3]\n",
    "k2 = remove_dups(nums2)\n",
    "print(k2, nums2[:k2])\n"
   ]
  },
  {
   "cell_type": "code",
   "execution_count": null,
   "id": "386352b0-fd1c-4ff8-bd83-466aa5eb0d3d",
   "metadata": {},
   "outputs": [],
   "source": []
  }
 ],
 "metadata": {
  "kernelspec": {
   "display_name": "Python [conda env:base] *",
   "language": "python",
   "name": "conda-base-py"
  },
  "language_info": {
   "codemirror_mode": {
    "name": "ipython",
    "version": 3
   },
   "file_extension": ".py",
   "mimetype": "text/x-python",
   "name": "python",
   "nbconvert_exporter": "python",
   "pygments_lexer": "ipython3",
   "version": "3.12.7"
  }
 },
 "nbformat": 4,
 "nbformat_minor": 5
}

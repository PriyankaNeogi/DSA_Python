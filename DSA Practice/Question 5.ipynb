{
 "cells": [
  {
   "cell_type": "markdown",
   "id": "96704f5a-2417-46ef-8bd6-a305766c154d",
   "metadata": {},
   "source": [
    "## Day 3\n",
    "## Question 5: \n",
    "Product of Array Except Self Given an integer array nums, return an array answer such that answerli] is equal to the product of al\n",
    "the elements of nums except nums[i].\n",
    "\n",
    "Test Cases\n",
    "\n",
    "Example 1:\n",
    "\n",
    "Input: nums = [1,2,3,4]\n",
    "\n",
    "Output: [24,12,8,6]\n",
    "\n",
    "Example 2:\n",
    "\n",
    "Input: nums = [-1,1,0,-3,3]\n",
    "\n",
    "Output: [0,0,9,0,0]\n",
    "\n",
    "LEETCODE QUESTION NUMBER 238"
   ]
  },
  {
   "cell_type": "code",
   "execution_count": 8,
   "id": "8f0c9473-e893-4bd7-b043-7f5242a65f65",
   "metadata": {},
   "outputs": [
    {
     "name": "stdout",
     "output_type": "stream",
     "text": [
      "[24, 12, 8, 6]\n",
      "[0, 0, 9, 0, 0]\n"
     ]
    }
   ],
   "source": [
    "def product_array_except_self(nums):\n",
    "    n = len(nums)\n",
    "    result = []\n",
    "    \n",
    "    for i in range(n):\n",
    "        product = 1  # Initialize the product \n",
    "        \n",
    "        for j in range(n):\n",
    "            if i != j:\n",
    "                product *= nums[j]\n",
    "        \n",
    "        # Append product to result\n",
    "        result.append(product)\n",
    "    \n",
    "    return result\n",
    "\n",
    "# Test Cases\n",
    "print(product_array_except_self([1, 2, 3, 4]))        \n",
    "print(product_array_except_self([-1, 1, 0, -3, 3]))    "
   ]
  },
  {
   "cell_type": "code",
   "execution_count": null,
   "id": "ff2e3f28-0c98-4209-883a-1ca33cfe8b16",
   "metadata": {},
   "outputs": [],
   "source": []
  }
 ],
 "metadata": {
  "kernelspec": {
   "display_name": "Python [conda env:base] *",
   "language": "python",
   "name": "conda-base-py"
  },
  "language_info": {
   "codemirror_mode": {
    "name": "ipython",
    "version": 3
   },
   "file_extension": ".py",
   "mimetype": "text/x-python",
   "name": "python",
   "nbconvert_exporter": "python",
   "pygments_lexer": "ipython3",
   "version": "3.12.7"
  }
 },
 "nbformat": 4,
 "nbformat_minor": 5
}

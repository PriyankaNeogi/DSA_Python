{
 "cells": [
  {
   "cell_type": "markdown",
   "id": "4c4ca381-1f90-4103-bd1b-7111aa7442b2",
   "metadata": {},
   "source": [
    "## Day 7\n",
    "## Question 14: Maximum Gap \n",
    "\n",
    "Given an integer array nums, return the maximum difference between two successive\n",
    "elements in its sorted form. If the array contains less than two elements, return O.\n",
    "\n",
    "Test Cases\n",
    "\n",
    "Example 1:\n",
    "\n",
    "Input: nums = [3,6,9,1]\n",
    "\n",
    "Output: 3 Explanation: The sorted form of the array is [1,3,6,9], either (3,6)\n",
    "or (6,9) has the maximum difference 3.\n",
    "\n",
    "Example 2:\n",
    "\n",
    "Input: nums = [10]\n",
    "\n",
    "Output: 0\n",
    "\n",
    "return 0.\n",
    "\n",
    "Explanation: The array contains less than 2 elements,"
   ]
  },
  {
   "cell_type": "code",
   "execution_count": 6,
   "id": "6133d3d8-0c41-4ee9-b46a-e82b863ead82",
   "metadata": {},
   "outputs": [
    {
     "name": "stdout",
     "output_type": "stream",
     "text": [
      "3\n",
      "0\n"
     ]
    }
   ],
   "source": [
    "def maximum_gap(nums):\n",
    "    if len(nums) < 2:\n",
    "        return 0\n",
    "    \n",
    "    nums.sort()\n",
    "    max_gap = 0\n",
    "\n",
    "    for i in range(1, len(nums)):\n",
    "        gap = nums[i] - nums[i - 1]\n",
    "        max_gap = max(max_gap, gap)\n",
    "    \n",
    "    return max_gap\n",
    "\n",
    "print(maximum_gap([3, 6, 9, 1]))  # Output: 3\n",
    "print(maximum_gap([10]))  # Output: 0\n"
   ]
  },
  {
   "cell_type": "code",
   "execution_count": null,
   "id": "ca249e7d-5f5a-4b19-883b-b72d0fd9392e",
   "metadata": {},
   "outputs": [],
   "source": []
  }
 ],
 "metadata": {
  "kernelspec": {
   "display_name": "Python [conda env:base] *",
   "language": "python",
   "name": "conda-base-py"
  },
  "language_info": {
   "codemirror_mode": {
    "name": "ipython",
    "version": 3
   },
   "file_extension": ".py",
   "mimetype": "text/x-python",
   "name": "python",
   "nbconvert_exporter": "python",
   "pygments_lexer": "ipython3",
   "version": "3.12.7"
  }
 },
 "nbformat": 4,
 "nbformat_minor": 5
}

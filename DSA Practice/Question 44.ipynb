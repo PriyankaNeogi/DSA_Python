{
 "cells": [
  {
   "cell_type": "markdown",
   "id": "699df0a2-1341-4c16-a796-10b8079f7d25",
   "metadata": {},
   "source": [
    "https://leetcode.com/problems/jump-game/description/?envType=problem-list-v2&envId=greedy\n",
    "\n",
    "You are given an integer array nums. You are initially positioned at the array's first index, and each element in the array represents your maximum jump length at that position.\n",
    "\n",
    "Return true if you can reach the last index, or false otherwise.\n",
    "\n",
    " \n",
    "\n",
    "Example 1:\n",
    "\n",
    "Input: nums = [2,3,1,1,4]\n",
    "Output: true\n",
    "Explanation: Jump 1 step from index 0 to 1, then 3 steps to the last index.\n",
    "Example 2:\n",
    "\n",
    "Input: nums = [3,2,1,0,4]\n",
    "Output: false\n",
    "Explanation: You will always arrive at index 3 no matter what. Its maximum jump length is 0, which makes it impossible to reach the last index.\n",
    " \n",
    "\n",
    "Constraints:\n",
    "\n",
    "1 <= nums.length <= 104\n",
    "0 <= nums[i] <= 105"
   ]
  },
  {
   "cell_type": "code",
   "execution_count": 1,
   "id": "3f98fd57-b8e3-4e34-913d-5d85d1e8ebab",
   "metadata": {},
   "outputs": [
    {
     "name": "stdout",
     "output_type": "stream",
     "text": [
      "True\n",
      "False\n",
      "True\n"
     ]
    }
   ],
   "source": [
    "def can_jump(nums):\n",
    "    reach = 0\n",
    "    for i in range(len(nums)):\n",
    "        if i > reach:\n",
    "            return False\n",
    "        reach = max(reach, i + nums[i])\n",
    "    return True\n",
    "\n",
    "# Test cases\n",
    "print(can_jump([2, 3, 1, 1, 4]))  # True\n",
    "print(can_jump([3, 2, 1, 0, 4]))  # False\n",
    "print(can_jump([0]))              # True"
   ]
  },
  {
   "cell_type": "code",
   "execution_count": 4,
   "id": "67fb5f35-4a58-4c59-b7f4-18dabc781b77",
   "metadata": {},
   "outputs": [
    {
     "name": "stdout",
     "output_type": "stream",
     "text": [
      "True\n",
      "False\n",
      "True\n"
     ]
    }
   ],
   "source": [
    "def can_jump(nums):\n",
    "    reach = 0\n",
    "    for i in range(len(nums)):\n",
    "        if i > reach:\n",
    "            return False\n",
    "        reach = max(reach, i + nums[i])\n",
    "    return True\n",
    "\n",
    "# Test cases\n",
    "print(can_jump([2, 3, 1, 1, 4]))  # True\n",
    "print(can_jump([3, 2, 1, 0, 4]))  # False\n",
    "print(can_jump([0]))              # True"
   ]
  },
  {
   "cell_type": "code",
   "execution_count": null,
   "id": "27b5a6f0-2e18-4265-8e0a-100934eec143",
   "metadata": {},
   "outputs": [],
   "source": []
  }
 ],
 "metadata": {
  "kernelspec": {
   "display_name": "Python [conda env:base] *",
   "language": "python",
   "name": "conda-base-py"
  },
  "language_info": {
   "codemirror_mode": {
    "name": "ipython",
    "version": 3
   },
   "file_extension": ".py",
   "mimetype": "text/x-python",
   "name": "python",
   "nbconvert_exporter": "python",
   "pygments_lexer": "ipython3",
   "version": "3.12.7"
  }
 },
 "nbformat": 4,
 "nbformat_minor": 5
}

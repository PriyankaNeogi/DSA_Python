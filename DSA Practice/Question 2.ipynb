{
 "cells": [
  {
   "cell_type": "markdown",
   "id": "4d24a292-bb9c-4f9a-a27d-277ef82b3c41",
   "metadata": {},
   "source": [
    "## Day 1\n",
    "## Question 2: Filter Strings Based on Criteria\n",
    "\n",
    "You are given a list of strings and two integers k and m. Write a function that returns a new list containing only those strings that satisfy both of the following conditions:\n",
    "1. The length of the string is greater than or equal to k.\n",
    "2. The string contains at least m vowels (vowels are 'a', 'e', i', 'o', 'u').\n",
    "   \n",
    "The output should maintain the original order of appearance in the input list.\n",
    "\n",
    "Function Input\n",
    "\n",
    "- • A list Ist of n strings.\n",
    "- • An integer k representing the minimum length of strings to include. \n",
    "- • An integer m representing the minimum number of vowels a string should have to be included.\n",
    "\n",
    "Test Cases :\n",
    "\n",
    "Input: [\"apple\", \"hi\", \"world\", \"yes\", \"python\"], k=4, m = 2\n",
    "\n",
    "Output: [\"'apple\"]\n",
    "\n",
    "Input: [\"education\", \"science\", \"art\", \"mathematics\"], k = 5, m = 3\n",
    "\n",
    "Output: [\"education\", \"science\", \"mathematics\"]"
   ]
  },
  {
   "cell_type": "code",
   "execution_count": 22,
   "id": "c26a15aa-4cae-4c97-b181-81b0840127b2",
   "metadata": {},
   "outputs": [
    {
     "name": "stdout",
     "output_type": "stream",
     "text": [
      "['apple']\n",
      "['education', 'science', 'mathematics']\n"
     ]
    }
   ],
   "source": [
    "def filter_strings(lst, k, m):\n",
    "    vowel = ['a', 'e', 'i', 'o', 'u']   # List of vowels\n",
    "    new = []         # List to store valid strings\n",
    "\n",
    "    for item in lst:\n",
    "        k1 = len(item)   # Calculate length of the string\n",
    "        m1 = 0           # Initialize vowel count for each string\n",
    "        \n",
    "        # Count vowels in the string\n",
    "        for char in item:\n",
    "            if char in vowel:\n",
    "                m1 += 1  \n",
    "\n",
    "        # Check both conditions\n",
    "        if k1 >= k and m1 >= m:\n",
    "            new.append(item)\n",
    "\n",
    "    return new\n",
    "\n",
    "# Test Cases\n",
    "print(filter_strings([\"apple\", \"hi\", \"world\", \"yes\", \"python\"], 4, 2))  # ['apple']\n",
    "print(filter_strings([\"education\", \"science\", \"art\", \"mathematics\"], 5, 3))  # ['education', 'science', 'mathematics']\n"
   ]
  },
  {
   "cell_type": "code",
   "execution_count": null,
   "id": "cebf05f2-73e3-4d57-ae2f-59a3844f2984",
   "metadata": {},
   "outputs": [],
   "source": []
  }
 ],
 "metadata": {
  "kernelspec": {
   "display_name": "Python [conda env:base] *",
   "language": "python",
   "name": "conda-base-py"
  },
  "language_info": {
   "codemirror_mode": {
    "name": "ipython",
    "version": 3
   },
   "file_extension": ".py",
   "mimetype": "text/x-python",
   "name": "python",
   "nbconvert_exporter": "python",
   "pygments_lexer": "ipython3",
   "version": "3.12.7"
  }
 },
 "nbformat": 4,
 "nbformat_minor": 5
}

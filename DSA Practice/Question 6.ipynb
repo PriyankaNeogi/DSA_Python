{
 "cells": [
  {
   "cell_type": "markdown",
   "id": "f6babfdf-58b5-48f5-8f53-586cd3c7b09a",
   "metadata": {},
   "source": [
    "## Day 3\n",
    "## Question 6: Longest Substring Without Repeating Characters\n",
    "\n",
    "Given a strings, find the length of the longest substring without duplicate characters.\n",
    "\n",
    "Test Cases\n",
    "\n",
    "Example 1:\n",
    "\n",
    "Input: s = \"abcabcbb\"\n",
    "\n",
    "Output: 3\n",
    "\n",
    "Explanation: The answer is \"abc\"', with the length of 3.\n",
    "\n",
    "Example 2:\n",
    "\n",
    "Input: s = \"bbbbb\"\n",
    "\n",
    "Output: 1\n",
    "\n",
    "Explanation: The answer is \"b\"\", with the length of 1.\n",
    "\n",
    "Example 3:\n",
    "\n",
    "Input: s = \"pwwkew\"\n",
    "\n",
    "Output: 3\n",
    "\n",
    "Explanation: The answer is \"wke\"', with the length of 3"
   ]
  },
  {
   "cell_type": "code",
   "execution_count": 6,
   "id": "a34a8bb6-29d0-4c80-b73f-62eeaa5e8c9d",
   "metadata": {},
   "outputs": [
    {
     "name": "stdout",
     "output_type": "stream",
     "text": [
      "3\n",
      "1\n",
      "3\n"
     ]
    }
   ],
   "source": [
    "def length_of_longest_string(s):\n",
    "    max_length = 0 \n",
    "    \n",
    "    # Iterate through the string\n",
    "    for i in range(len(s)):\n",
    "        unique_chars = set()  \n",
    "        \n",
    "       # Expand the substring\n",
    "        for j in range(i, len(s)):\n",
    "            if s[j] in unique_chars:\n",
    "                break  # Found a repeating character, break the loop\n",
    "            unique_chars.add(s[j])  # Add character to the set\n",
    "            \n",
    "            # Step 3: Track the maximum length\n",
    "            max_length = max(max_length, j - i + 1)\n",
    "    \n",
    "    return max_length\n",
    "\n",
    "# Test Cases\n",
    "print(length_of_longest_string(\"abcabcbb\"))  # Output: 3 (Substring: \"abc\")\n",
    "print(length_of_longest_string(\"bbbbb\"))      # Output: 1 (Substring: \"b\")\n",
    "print(length_of_longest_string(\"pwwkew\"))     # Output: 3 (Substring: \"wke\")"
   ]
  },
  {
   "cell_type": "code",
   "execution_count": null,
   "id": "ac4d0a12-f9dd-43e8-97d0-de9a30894cf6",
   "metadata": {},
   "outputs": [],
   "source": [
    "def longest_substring(string):\n",
    "    result=0\n",
    "    current=\"\"\n",
    "    for i in string:\n",
    "        if i not in current:\n",
    "            current+=i\n",
    "        else:\n",
    "            result=len(current) if len(current)>result else result \n",
    "         current=i \n",
    " return result"
   ]
  },
  {
   "cell_type": "code",
   "execution_count": 36,
   "id": "55f33452-3c51-4b04-a61a-9a9bce469b77",
   "metadata": {},
   "outputs": [
    {
     "name": "stdout",
     "output_type": "stream",
     "text": [
      "3\n"
     ]
    }
   ],
   "source": [
    "#s = \"abcdabcbb\"\n",
    "# s = \"abcabcbb\"\n",
    "#s = \"bbbbb\"\n",
    "# s = \"pwwkew\"\n",
    "s = \"abcacbcdedbb\"\n",
    "\n",
    "\n",
    "unique = ''\n",
    "long = ''\n",
    "\n",
    "for i in s:\n",
    "    if i not in unique:\n",
    "        unique += i\n",
    "    else:\n",
    "        if len(unique) > len(long):\n",
    "            long = unique\n",
    "        unique = i  # Start a new substring\n",
    "\n",
    "# Final check in case the longest substring is at the end\n",
    "if len(unique) > len(long):\n",
    "    long = unique\n",
    "\n",
    "print(len(long))  # Output should be 4 (\"abcd\")"
   ]
  },
  {
   "cell_type": "code",
   "execution_count": 12,
   "id": "22c08fc6-7c63-4edf-b21f-4190f8456597",
   "metadata": {},
   "outputs": [
    {
     "name": "stdout",
     "output_type": "stream",
     "text": [
      "4\n"
     ]
    }
   ],
   "source": [
    "s = \"abcdabcbb\"\n",
    "\n",
    "res = ''\n",
    "lon = ''\n",
    "\n",
    "for i in s:\n",
    "    if i not in res:\n",
    "        res += i\n",
    "    else:\n",
    "        # Check before resetting to ensure max length is tracked\n",
    "        if len(res) > len(lon):\n",
    "            lon = res\n",
    "        # Start a new substring beginning AFTER the first occurrence of the repeating character\n",
    "        res = res[res.index(i) + 1:] + i  \n",
    "\n",
    "# Final check in case the longest substring is at the end\n",
    "if len(res) > len(lon):\n",
    "    lon = res\n",
    "\n",
    "print(len(lon))  # Output should be 4 (\"abcd\")\n"
   ]
  },
  {
   "cell_type": "code",
   "execution_count": null,
   "id": "397e9bcd-b4b4-4118-bbb2-b6fcc24ac199",
   "metadata": {},
   "outputs": [],
   "source": []
  },
  {
   "cell_type": "code",
   "execution_count": null,
   "id": "ab713255-c7e5-4f0e-bfd0-460d6fd384b4",
   "metadata": {},
   "outputs": [],
   "source": []
  },
  {
   "cell_type": "code",
   "execution_count": null,
   "id": "4c32a7ed-5eec-408f-be6d-c6c07d803bab",
   "metadata": {},
   "outputs": [],
   "source": []
  },
  {
   "cell_type": "markdown",
   "id": "de00741e-16a8-433f-a26b-cf9e6c5fd8c0",
   "metadata": {},
   "source": [
    "solution - https://youtu.be/wiGpQwVHdE0?si=-L8j-Hj4OTK9qJiB\n",
    "\n",
    "concept - https://youtu.be/CliBqnnF-II?si=kXzub6CnqLUCj_cl\n",
    "\n",
    "It will be solved using sliding window"
   ]
  },
  {
   "cell_type": "code",
   "execution_count": null,
   "id": "c7932c8e-6283-4032-b210-f8f1ad9fe7c9",
   "metadata": {},
   "outputs": [],
   "source": []
  },
  {
   "cell_type": "code",
   "execution_count": null,
   "id": "596dec71-0e15-4170-8f34-c6a01adeead0",
   "metadata": {},
   "outputs": [],
   "source": []
  },
  {
   "cell_type": "code",
   "execution_count": null,
   "id": "99256362-fb19-4ef9-b981-016943d21472",
   "metadata": {},
   "outputs": [],
   "source": [
    "s = \"abcdabcbb\"\n",
    "\n",
    "unique = set(s)\n",
    "result = None\n",
    "\n",
    "for char in s:\n",
    "    count = 0\n",
    "    if char in unique:\n",
    "        count += 1\n",
    "        \n",
    "        \n",
    "        "
   ]
  },
  {
   "cell_type": "code",
   "execution_count": null,
   "id": "79e47ba9-9661-452f-8418-3dcd9f4947af",
   "metadata": {},
   "outputs": [],
   "source": [
    "s = \"abcdabcbb\"\n",
    "\n",
    "unique = set(s)   \n",
    "sub = \"\"           \n",
    "result = 0         \n",
    "\n",
    "for char in s:\n",
    "    if char not in sub:  \n",
    "        sub += char    \n",
    "    else:\n",
    "        result = max(result, len(res))\n",
    "        \n",
    "        res = res[res.index(char) + 1:] + char  \n",
    "\n",
    "# Final check in case the longest substring is at the end\n",
    "result = max(result, len(res))\n",
    "\n",
    "print(result)  # Output: 4 (Substring: \"abcd\")\n"
   ]
  },
  {
   "cell_type": "code",
   "execution_count": null,
   "id": "de1bf2d3-789c-4563-a81a-5e378ca3c608",
   "metadata": {},
   "outputs": [],
   "source": []
  },
  {
   "cell_type": "code",
   "execution_count": 54,
   "id": "f5e78cfb-ba71-4ba3-ad1d-4160447198f4",
   "metadata": {},
   "outputs": [
    {
     "name": "stdout",
     "output_type": "stream",
     "text": [
      "4\n"
     ]
    }
   ],
   "source": [
    "s = \"abcdabcbb\"\n",
    "\n",
    " \n",
    "sub = \"\"           \n",
    "result = 0         \n",
    "\n",
    "for char in s:\n",
    "    if char not in sub:  \n",
    "        sub += char    \n",
    "    else:\n",
    "        result = max(result, len(sub))\n",
    "        \n",
    "        sub = char  \n",
    "\n",
    "\n",
    "result = max(result, len(sub))\n",
    "\n",
    "print(result)  # Output: 4 (Substring: \"abcd\")"
   ]
  },
  {
   "cell_type": "code",
   "execution_count": 56,
   "id": "fbb2c0d0-a954-4175-a977-821a099c5b96",
   "metadata": {},
   "outputs": [
    {
     "name": "stdout",
     "output_type": "stream",
     "text": [
      "4\n",
      "3\n",
      "1\n",
      "3\n"
     ]
    }
   ],
   "source": [
    "def length_of_longest_substring(s):\n",
    "    sub = \"\"     \n",
    "    result = 0  \n",
    "\n",
    "    for char in s:\n",
    "        if char not in sub:\n",
    "            sub += char  \n",
    "        else:\n",
    "            result = max(result, len(sub)) \n",
    "            sub =  char \n",
    "\n",
    "\n",
    "    return max(result, len(sub))\n",
    "\n",
    "# Test Cases\n",
    "print(length_of_longest_substring(\"abcdabcbb\"))  # Output: 4 (Substring: \"abcd\")\n",
    "print(length_of_longest_substring(\"abcabcbb\"))   # Output: 3 (Substring: \"abc\")\n",
    "print(length_of_longest_substring(\"bbbbb\"))       # Output: 1 (Substring: \"b\")\n",
    "print(length_of_longest_substring(\"pwwkew\"))      # Output: 3 (Substring: \"wke\")\n"
   ]
  },
  {
   "cell_type": "code",
   "execution_count": null,
   "id": "a35bc1a4-af97-421b-9a47-8a906eb988f1",
   "metadata": {},
   "outputs": [],
   "source": []
  }
 ],
 "metadata": {
  "kernelspec": {
   "display_name": "Python [conda env:base] *",
   "language": "python",
   "name": "conda-base-py"
  },
  "language_info": {
   "codemirror_mode": {
    "name": "ipython",
    "version": 3
   },
   "file_extension": ".py",
   "mimetype": "text/x-python",
   "name": "python",
   "nbconvert_exporter": "python",
   "pygments_lexer": "ipython3",
   "version": "3.12.7"
  }
 },
 "nbformat": 4,
 "nbformat_minor": 5
}

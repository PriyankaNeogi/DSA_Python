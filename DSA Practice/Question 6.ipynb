{
 "cells": [
  {
   "cell_type": "markdown",
   "id": "f6babfdf-58b5-48f5-8f53-586cd3c7b09a",
   "metadata": {},
   "source": [
    "## Day 3\n",
    "## Question 6: Longest Substring Without Repeating Characters\n",
    "\n",
    "Given a strings, find the length of the longest substring without duplicate characters.\n",
    "\n",
    "Test Cases\n",
    "\n",
    "Example 1:\n",
    "\n",
    "Input: s = \"abcabcbb\"\n",
    "\n",
    "Output: 3\n",
    "\n",
    "Explanation: The answer is \"abc\"', with the length of 3.\n",
    "\n",
    "Example 2:\n",
    "\n",
    "Input: s = \"bbbbb\"\n",
    "\n",
    "Output: 1\n",
    "\n",
    "Explanation: The answer is \"b\"\", with the length of 1.\n",
    "\n",
    "Example 3:\n",
    "\n",
    "Input: s = \"pwwkew\"\n",
    "\n",
    "Output: 3\n",
    "\n",
    "Explanation: The answer is \"wke\"', with the length of 3"
   ]
  },
  {
   "cell_type": "code",
   "execution_count": 1,
   "id": "fbb2c0d0-a954-4175-a977-821a099c5b96",
   "metadata": {},
   "outputs": [
    {
     "name": "stdout",
     "output_type": "stream",
     "text": [
      "4\n",
      "3\n",
      "1\n",
      "3\n"
     ]
    }
   ],
   "source": [
    "def length_of_longest_substring(s):\n",
    "    sub = \"\"     \n",
    "    result = 0  \n",
    "\n",
    "    for char in s:\n",
    "        if char not in sub:\n",
    "            sub += char  \n",
    "        else:\n",
    "            result = max(result, len(sub)) \n",
    "            sub =  char \n",
    "\n",
    "\n",
    "    return max(result, len(sub))\n",
    "\n",
    "# Test Cases\n",
    "print(length_of_longest_substring(\"abcdabcbb\"))  # Output: 4 (Substring: \"abcd\")\n",
    "print(length_of_longest_substring(\"abcabcbb\"))   # Output: 3 (Substring: \"abc\")\n",
    "print(length_of_longest_substring(\"bbbbb\"))       # Output: 1 (Substring: \"b\")\n",
    "print(length_of_longest_substring(\"pwwkew\"))      # Output: 3 (Substring: \"wke\")\n"
   ]
  },
  {
   "cell_type": "code",
   "execution_count": null,
   "id": "a35bc1a4-af97-421b-9a47-8a906eb988f1",
   "metadata": {},
   "outputs": [],
   "source": []
  }
 ],
 "metadata": {
  "kernelspec": {
   "display_name": "Python [conda env:base] *",
   "language": "python",
   "name": "conda-base-py"
  },
  "language_info": {
   "codemirror_mode": {
    "name": "ipython",
    "version": 3
   },
   "file_extension": ".py",
   "mimetype": "text/x-python",
   "name": "python",
   "nbconvert_exporter": "python",
   "pygments_lexer": "ipython3",
   "version": "3.12.7"
  }
 },
 "nbformat": 4,
 "nbformat_minor": 5
}

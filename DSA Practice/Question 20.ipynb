{
 "cells": [
  {
   "cell_type": "markdown",
   "id": "eccb7036-983b-45b1-b6ae-1459f484f830",
   "metadata": {},
   "source": [
    "\n",
    "## DAY 10\n",
    "## Question 20: Sequential Digits \n",
    "\n",
    "An integer has sequential digits if and only if each digit in the number is one more than the\n",
    "previous digit. Return a sorted list of all the integers in the range [low, high] inclusive that have sequential\n",
    "digits.\n",
    "\n",
    "\n",
    "Test Cases\n",
    "\n",
    "Example 1:\n",
    "\n",
    "Input: low = 100, high = 300\n",
    "\n",
    "Output: (123,234]\n",
    "\n",
    "Example 2:\n",
    "\n",
    "Input: low = 1000, high = 13000\n",
    "\n",
    "Output:\n",
    "[1234,2345,3456,4567,5678,6789,12345]"
   ]
  },
  {
   "cell_type": "code",
   "execution_count": 4,
   "id": "39aff7c1-62d2-450a-b44d-66934961d25a",
   "metadata": {},
   "outputs": [
    {
     "name": "stdout",
     "output_type": "stream",
     "text": [
      "[123, 234]\n",
      "[1234, 2345, 3456, 4567, 5678, 6789, 12345]\n"
     ]
    }
   ],
   "source": [
    "def sequentialDigits(low, high):\n",
    "    res = []\n",
    "    d = \"123456789\"\n",
    "\n",
    "    for l in range(2, len(d) + 1):\n",
    "        for i in range(len(d) - l + 1):\n",
    "            num = int(d[i:i + l])\n",
    "            if low <= num <= high:\n",
    "                res.append(num)\n",
    "\n",
    "    return res\n",
    "\n",
    "print(sequentialDigits(100, 300))     \n",
    "print(sequentialDigits(1000, 13000))  \n"
   ]
  },
  {
   "cell_type": "code",
   "execution_count": null,
   "id": "7a2577a5-efc7-4dc5-a0c7-81f96028fbb1",
   "metadata": {},
   "outputs": [],
   "source": []
  }
 ],
 "metadata": {
  "kernelspec": {
   "display_name": "Python [conda env:base] *",
   "language": "python",
   "name": "conda-base-py"
  },
  "language_info": {
   "codemirror_mode": {
    "name": "ipython",
    "version": 3
   },
   "file_extension": ".py",
   "mimetype": "text/x-python",
   "name": "python",
   "nbconvert_exporter": "python",
   "pygments_lexer": "ipython3",
   "version": "3.12.7"
  }
 },
 "nbformat": 4,
 "nbformat_minor": 5
}

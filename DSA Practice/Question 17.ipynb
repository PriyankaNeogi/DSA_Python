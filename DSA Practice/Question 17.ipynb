{
 "cells": [
  {
   "cell_type": "markdown",
   "id": "2f59a603-a653-499f-88bd-b777fc36e2f0",
   "metadata": {},
   "source": [
    "\n",
    "## DAY 9\n",
    "## Question 17: Longest Uncommon Subsequence \n",
    "\n",
    "Given an array of strings strs, return the length of the longest uncommon subsequence\n",
    "between them. If the longest uncommon subsequence does not exist, return -1. An uncommon subsequence between an array of strings is a string that is a subsequence of\n",
    "one string but not the others. A subsequence of a string s is a string that can be obtained after deleting any number of\n",
    "characters from s. \n",
    "- • For example, \"abc\" is a subsequence of \"aebdc\" because you can delete the underline\n",
    "characters in \"aebdc\" to get \"abc\". Other subsequences of \"aebd\" include \"aebde\"\n",
    "\"aeb\", and '' (empty string).\n",
    "\n",
    "Test Cases\n",
    "\n",
    "Example 1:\n",
    "\n",
    "Input: strs = [\"aba\", \"cdc\", \"eae\"]\n",
    "\n",
    "Output: 3\n",
    "\n",
    "Example 2:\n",
    "\n",
    "Input: strs = [\"aaa\",\"aaa\",\"aa\"]\n",
    "\n",
    "Output : -1"
   ]
  },
  {
   "cell_type": "code",
   "execution_count": 9,
   "id": "10434bab-cfdd-48be-88af-e5dde6617bea",
   "metadata": {},
   "outputs": [
    {
     "name": "stdout",
     "output_type": "stream",
     "text": [
      "3\n",
      "-1\n"
     ]
    }
   ],
   "source": [
    "def is_subsequence(s1, s2):\n",
    "  \n",
    "    i, j = 0, 0\n",
    "    while i < len(s1) and j < len(s2):\n",
    "        if s1[i] == s2[j]:\n",
    "            i += 1\n",
    "        j += 1\n",
    "    return i == len(s1)\n",
    "\n",
    "def find_length(strs):\n",
    "    strs.sort(key=len, reverse=True) \n",
    "    \n",
    "    for i, s in enumerate(strs):\n",
    "        is_uncommon = True\n",
    "        for j in range(len(strs)):\n",
    "            if i != j and is_subsequence(s, strs[j]):\n",
    "                is_uncommon = False\n",
    "                break\n",
    "        if is_uncommon:\n",
    "            return len(s)\n",
    "    \n",
    "    return -1  \n",
    "\n",
    "# Test Cases\n",
    "print(find_length([\"aba\", \"cdc\", \"eae\"]))  # Output: 3\n",
    "print(find_length([\"aaa\", \"aaa\", \"aa\"]))   # Output: -1\n"
   ]
  },
  {
   "cell_type": "code",
   "execution_count": null,
   "id": "f6238549-a426-4e43-84d0-569ca93e86b9",
   "metadata": {},
   "outputs": [],
   "source": []
  }
 ],
 "metadata": {
  "kernelspec": {
   "display_name": "Python [conda env:base] *",
   "language": "python",
   "name": "conda-base-py"
  },
  "language_info": {
   "codemirror_mode": {
    "name": "ipython",
    "version": 3
   },
   "file_extension": ".py",
   "mimetype": "text/x-python",
   "name": "python",
   "nbconvert_exporter": "python",
   "pygments_lexer": "ipython3",
   "version": "3.12.7"
  }
 },
 "nbformat": 4,
 "nbformat_minor": 5
}

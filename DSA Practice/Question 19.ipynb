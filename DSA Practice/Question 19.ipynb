{
 "cells": [
  {
   "cell_type": "markdown",
   "id": "8d0683d3-80f8-4350-b6f8-7da2c8f3e73f",
   "metadata": {},
   "source": [
    "<img src=\"Day10Q19.png\">"
   ]
  },
  {
   "cell_type": "code",
   "execution_count": 6,
   "id": "40733150-eed4-40bb-be8a-f53a0672736e",
   "metadata": {},
   "outputs": [
    {
     "name": "stdout",
     "output_type": "stream",
     "text": [
      "True\n",
      "True\n",
      "False\n"
     ]
    }
   ],
   "source": [
    "def check_subarray_sum(nums, k):\n",
    "    n = len(nums)\n",
    "    \n",
    "    for i in range(n):\n",
    "        s = nums[i]\n",
    "        for j in range(i + 1, n):\n",
    "            s += nums[j]\n",
    "            if k == 0:\n",
    "                if s == 0:\n",
    "                    return True\n",
    "            elif s % k == 0:\n",
    "                return True\n",
    "                \n",
    "    return False\n",
    "\n",
    "# Test Cases\n",
    "print(check_subarray_sum([23, 2, 4, 6, 7], 6))  # True\n",
    "print(check_subarray_sum([23, 2, 6, 4, 7], 6))  # True\n",
    "print(check_subarray_sum([23, 2, 6, 4, 7], 13)) # False\n"
   ]
  },
  {
   "cell_type": "code",
   "execution_count": null,
   "id": "48c2ebbd-d4a3-477a-93ef-dfb7b2c3170a",
   "metadata": {},
   "outputs": [],
   "source": []
  }
 ],
 "metadata": {
  "kernelspec": {
   "display_name": "Python [conda env:base] *",
   "language": "python",
   "name": "conda-base-py"
  },
  "language_info": {
   "codemirror_mode": {
    "name": "ipython",
    "version": 3
   },
   "file_extension": ".py",
   "mimetype": "text/x-python",
   "name": "python",
   "nbconvert_exporter": "python",
   "pygments_lexer": "ipython3",
   "version": "3.12.7"
  }
 },
 "nbformat": 4,
 "nbformat_minor": 5
}

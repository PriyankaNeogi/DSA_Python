{
 "cells": [
  {
   "cell_type": "markdown",
   "id": "4626ad0e-3042-4f6e-b61a-d05b66f423e2",
   "metadata": {},
   "source": [
    "## Day 4\n",
    "## Question 7: Minimum Difference Between Highest and Lowest of K Scores \n",
    "\n",
    "You are given a 0 - indexed integer array nums, where nums[i] represents the score of the ith student.\n",
    "You are also given an integer k. Pick the scores of any k students from the array so that the difference between the highest and the\n",
    "lowest of the k scores is minimized.\n",
    "\n",
    "\n",
    "Return the minimum possible difference.\n",
    "\n",
    "\n",
    "Test Cases\n",
    "\n",
    "Example 1:\n",
    "\n",
    "Input: nums = [90], k = 1\n",
    "\n",
    "Output: 0 Explanation: There is one way to pick score(s) of one\n",
    "student:\n",
    "- [90]. The difference between the highest and\n",
    "lowest score is 90 - 90 = 0.\n",
    "The minimum possible difference is 0.\n",
    "\n",
    "LEETCODE QUESTION NUMBER 1984\n",
    "\n",
    "Example 2:\n",
    "\n",
    "Input: nums = [9,4,1,7], k = 2\n",
    "\n",
    "Output: 2 Explanation: There are six ways to pick score(s) of\n",
    "two students:\n",
    "\n",
    "- [9,4,1,7]. The difference between the highest and\n",
    "lowest score is 9 - 4 = 5.\n",
    "- [9,4,1,7]. The difference between the highest and\n",
    "lowest score is 9 - 1 = 8.\n",
    "- [9,4,1,7]. The difference between the highest and\n",
    "lowest score is 9 - 7 = 2.\n",
    "- [9,4,1,7]. The difference between the highest and\n",
    "lowest score is 4 - 1 = 3.\n",
    "- [9,4,1,7]. The difference between the highest and\n",
    "lowest score is 7- 4  = 3.\n",
    "- [9,4,1,7]. The difference between the highest and\n",
    "lowest score is 7- 1  = 6.\n",
    "\n",
    "\n",
    "The minimum possible difference is 2.\n",
    "\n"
   ]
  },
  {
   "cell_type": "code",
   "execution_count": 3,
   "id": "f49dfafb-beac-443c-a007-149b34b0030d",
   "metadata": {},
   "outputs": [
    {
     "name": "stdout",
     "output_type": "stream",
     "text": [
      "0\n",
      "3\n",
      "5\n",
      "30\n",
      "1\n"
     ]
    }
   ],
   "source": [
    "def minimumDifference(nums, k):\n",
    "    if k == 1:\n",
    "        return 0  # If k=1, no difference as we pick only one score.\n",
    "\n",
    "    n = len(nums)\n",
    "    min_diff = float('inf')\n",
    "\n",
    "     # Form all possible groups of k elements\n",
    "    for i in range(n):\n",
    "        for j in range(i + 1, n - k + 2):  \n",
    "            group = nums[i:j + k - 1]  \n",
    "            diff = max(group) - min(group)  \n",
    "            min_diff = min(min_diff, diff)  \n",
    "\n",
    "    return min_diff\n",
    "\n",
    "# Test Case\n",
    "\n",
    "print(minimumDifference([90], 1))        # Output: 0\n",
    "print(minimumDifference([9, 4, 1, 7], 2)) # Output: 2\n",
    "print(minimumDifference([1, 3, 7, 9, 12], 3))  # Output: 5\n",
    "print(minimumDifference([10, 20, 30, 40, 50], 4))  # Output: 30\n",
    "print(minimumDifference([1, 5, 3, 19, 18, 25], 2))  # Output: 1"
   ]
  },
  {
   "cell_type": "code",
   "execution_count": null,
   "id": "d9f3e66f-b548-4c84-9d1a-eb9035d1e5ed",
   "metadata": {},
   "outputs": [],
   "source": []
  }
 ],
 "metadata": {
  "kernelspec": {
   "display_name": "Python [conda env:base] *",
   "language": "python",
   "name": "conda-base-py"
  },
  "language_info": {
   "codemirror_mode": {
    "name": "ipython",
    "version": 3
   },
   "file_extension": ".py",
   "mimetype": "text/x-python",
   "name": "python",
   "nbconvert_exporter": "python",
   "pygments_lexer": "ipython3",
   "version": "3.12.7"
  }
 },
 "nbformat": 4,
 "nbformat_minor": 5
}

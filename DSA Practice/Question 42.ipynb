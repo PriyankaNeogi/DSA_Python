{
 "cells": [
  {
   "cell_type": "markdown",
   "id": "5f04b127-bea9-4f30-a493-4fa0bf2a3d93",
   "metadata": {},
   "source": [
    "https://leetcode.com/problems/valid-palindrome-ii/description/\n",
    "\n",
    "Given a string s, return true if the s can be palindrome after deleting at most one character from it.\n",
    "\n",
    " \n",
    "\n",
    "Example 1:\n",
    "\n",
    "Input: s = \"aba\"\n",
    "Output: true\n",
    "Example 2:\n",
    "\n",
    "Input: s = \"abca\"\n",
    "Output: true\n",
    "Explanation: You could delete the character 'c'.\n",
    "Example 3:\n",
    "\n",
    "Input: s = \"abc\"\n",
    "Output: false\n",
    " \n",
    "\n",
    "Constraints:\n",
    "\n",
    "1 <= s.length <= 105\n",
    "s consists of lowercase English letters."
   ]
  },
  {
   "cell_type": "code",
   "execution_count": 6,
   "id": "74899f83-b212-402a-b2ae-10d63d63f24b",
   "metadata": {},
   "outputs": [
    {
     "name": "stdout",
     "output_type": "stream",
     "text": [
      "True\n",
      "True\n",
      "False\n",
      "True\n"
     ]
    }
   ],
   "source": [
    "def is_almost_palindrome(word):\n",
    "    start = 0\n",
    "    end = len(word) - 1\n",
    "\n",
    "    while start < end:\n",
    "        if word[start] != word[end]:\n",
    "            remove_start = word[start+1:end+1]\n",
    "            remove_end = word[start:end]\n",
    "            return remove_start == remove_start[::-1] or remove_end == remove_end[::-1]\n",
    "        start += 1\n",
    "        end -= 1\n",
    "\n",
    "    return True\n",
    "\n",
    "# Test cases\n",
    "print(is_almost_palindrome(\"aba\"))   # True\n",
    "print(is_almost_palindrome(\"abca\"))  # True\n",
    "print(is_almost_palindrome(\"abc\"))   # False\n",
    "print(is_almost_palindrome(\"racecar\"))   # True"
   ]
  },
  {
   "cell_type": "code",
   "execution_count": null,
   "id": "89b06fbd-9cca-4f40-86e3-baadd9f1d21a",
   "metadata": {},
   "outputs": [],
   "source": []
  }
 ],
 "metadata": {
  "kernelspec": {
   "display_name": "Python [conda env:base] *",
   "language": "python",
   "name": "conda-base-py"
  },
  "language_info": {
   "codemirror_mode": {
    "name": "ipython",
    "version": 3
   },
   "file_extension": ".py",
   "mimetype": "text/x-python",
   "name": "python",
   "nbconvert_exporter": "python",
   "pygments_lexer": "ipython3",
   "version": "3.12.7"
  }
 },
 "nbformat": 4,
 "nbformat_minor": 5
}

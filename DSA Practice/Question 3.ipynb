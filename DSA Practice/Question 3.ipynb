{
 "cells": [
  {
   "cell_type": "markdown",
   "id": "693867d1-39f0-4f76-80fb-b48761bebde1",
   "metadata": {},
   "source": [
    "\n",
    "## Day 2\n",
    "\n",
    "## Question 3: Length of Last Word \n",
    "\n",
    "You are given a sentence s that contains words and spaces. Your task is to find the length of the last\n",
    "word in the sentence.\n",
    "\n",
    "\n",
    "Note:\n",
    "- • A word is a group of letters without spaces.\n",
    "- • The sentence may have extra spaces at the beginning, middle, or end.\n",
    "- • You need to ignore the spaces and focus only on words.\n",
    "\n",
    "\n",
    "Test Cases\n",
    "\n",
    "Example 1:\n",
    "\n",
    "Input:\n",
    "\n",
    "s= \"Learn Python\"\n",
    "\n",
    "Output:\n",
    "\n",
    "6\n",
    "\n",
    "Example 2:\n",
    "\n",
    "Input:\n",
    "\n",
    "s=\" coding is fun \"\n",
    "\n",
    "Output:\n",
    "\n",
    "3\n",
    "\n",
    "Explanation:\n",
    "\n",
    "The last word is \"Python\", which has 6 letters.\n",
    "\n",
    "Explanation:\n",
    "\n",
    "The last word is \"fun\", which has 3 letters.\n",
    "\n",
    "Example 3\n",
    "\n",
    "Input: s=\" fly me to the moon \"\n",
    "\n",
    "Output: 4\n",
    "\n",
    "Explanation: The last word is \"moon\""
   ]
  },
  {
   "cell_type": "code",
   "execution_count": 19,
   "id": "93b09755-43a5-47fd-afcf-05482466f3c7",
   "metadata": {},
   "outputs": [
    {
     "name": "stdout",
     "output_type": "stream",
     "text": [
      "6\n",
      "3\n",
      "4\n"
     ]
    }
   ],
   "source": [
    "def length_of_last_word(s):\n",
    "\n",
    "    #split the sentence based on space , \n",
    "    # the output is list of words\n",
    "    lst = s.split()\n",
    "    # calculate the length of the last word\n",
    "    length = len(lst[-1])\n",
    "    return length\n",
    "\n",
    "\n",
    "#test cases\n",
    "s= \"Learn Python\"\n",
    "print(length_of_last_word(s)) # Output:6\n",
    "s= \" coding is fun \"\n",
    "print(length_of_last_word(s)) # Output:3\n",
    "s= \" fly me to the moon \"\n",
    "print(length_of_last_word(s)) # Output:4"
   ]
  },
  {
   "cell_type": "code",
   "execution_count": null,
   "id": "9ff597b1-6a8c-4b3a-9437-ffebcba319d6",
   "metadata": {},
   "outputs": [],
   "source": []
  },
  {
   "cell_type": "code",
   "execution_count": null,
   "id": "7f7f63c7-508a-4fb2-8fbc-3961952c9b59",
   "metadata": {},
   "outputs": [],
   "source": []
  }
 ],
 "metadata": {
  "kernelspec": {
   "display_name": "Python [conda env:base] *",
   "language": "python",
   "name": "conda-base-py"
  },
  "language_info": {
   "codemirror_mode": {
    "name": "ipython",
    "version": 3
   },
   "file_extension": ".py",
   "mimetype": "text/x-python",
   "name": "python",
   "nbconvert_exporter": "python",
   "pygments_lexer": "ipython3",
   "version": "3.12.7"
  }
 },
 "nbformat": 4,
 "nbformat_minor": 5
}

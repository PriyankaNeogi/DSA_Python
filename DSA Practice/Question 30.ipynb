{
 "cells": [
  {
   "cell_type": "markdown",
   "id": "4a0e0440-3a0e-48d4-bbf1-30101c71ed1f",
   "metadata": {},
   "source": [
    "## DAY 15\n",
    "\n",
    "## Question 30: Longest Repeating Character Replacement\n",
    "\n",
    "A permutation perm of n integers of all the integers in the range [1, n] can be represented as a string s of length n - 1 where:\n",
    "\n",
    "- s[i] == 'I' if perm[i] < perm[i + 1], and\n",
    "- s[i] == 'D' if perm[i] > perm[i + 1].\n",
    "- \n",
    "Given a string s, reconstruct the lexicographically smallest permutation perm and return it.\n",
    "\n",
    "Test Cases\n",
    "\n",
    "Example 1:\n",
    "\n",
    "Input: s = \"I\"\n",
    "\n",
    "Output: [1,2]\n",
    "\n",
    "Explanation: [1,2] is the only legal permutation that can be represented by s, where the number 1 and 2 construct an increasing relationship.\n",
    "\n",
    "Example 2:\n",
    "\n",
    "Input: s = \"DI\"\n",
    "\n",
    "Output: [2,1,3]\n",
    "\n",
    "Explanation: Both [2,1,3] and [3,1,2] can be represented as \"DI\", but since we want to find the smallest lexicographical permutation, you should return [2,1,3].\n",
    "\n"
   ]
  },
  {
   "cell_type": "code",
   "execution_count": 4,
   "id": "f2c48fae-2595-48a5-a467-e14054833209",
   "metadata": {},
   "outputs": [
    {
     "name": "stdout",
     "output_type": "stream",
     "text": [
      "[1, 2]\n",
      "[2, 1, 3]\n"
     ]
    }
   ],
   "source": [
    "def find_permutation(s):\n",
    "    stack = []\n",
    "    result = []\n",
    "    \n",
    "    for i in range(len(s) + 1):\n",
    "        stack.append(i + 1)  # Push numbers from 1 to n+1\n",
    "        if i == len(s) or s[i] == 'I':  \n",
    "            while stack:\n",
    "                result.append(stack.pop())  # Pop all elements when encountering 'I'\n",
    "    \n",
    "    return result\n",
    "\n",
    "# Test Cases\n",
    "print(find_permutation(\"I\"))   # Output: [1, 2]\n",
    "print(find_permutation(\"DI\"))  # Output: [2, 1, 3]"
   ]
  },
  {
   "cell_type": "code",
   "execution_count": null,
   "id": "9a2de5bd-7bb9-45cc-8008-55919594e1c2",
   "metadata": {},
   "outputs": [],
   "source": []
  }
 ],
 "metadata": {
  "kernelspec": {
   "display_name": "Python [conda env:base] *",
   "language": "python",
   "name": "conda-base-py"
  },
  "language_info": {
   "codemirror_mode": {
    "name": "ipython",
    "version": 3
   },
   "file_extension": ".py",
   "mimetype": "text/x-python",
   "name": "python",
   "nbconvert_exporter": "python",
   "pygments_lexer": "ipython3",
   "version": "3.12.7"
  }
 },
 "nbformat": 4,
 "nbformat_minor": 5
}

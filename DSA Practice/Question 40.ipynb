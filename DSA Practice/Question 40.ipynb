{
 "cells": [
  {
   "cell_type": "markdown",
   "id": "1c8bec10-2c76-4aa4-b05c-e901e41f58e7",
   "metadata": {},
   "source": [
    "Given a string array words, return the maximum value of length(word[i]) * length(word[j]) where the two words do not share common letters. If no such two words exist, return 0.\n",
    "\n",
    " \n",
    "\n",
    "Example 1:\n",
    "\n",
    "Input: words = [\"abcw\",\"baz\",\"foo\",\"bar\",\"xtfn\",\"abcdef\"]\n",
    "Output: 16\n",
    "Explanation: The two words can be \"abcw\", \"xtfn\".\n",
    "Example 2:\n",
    "\n",
    "Input: words = [\"a\",\"ab\",\"abc\",\"d\",\"cd\",\"bcd\",\"abcd\"]\n",
    "Output: 4\n",
    "Explanation: The two words can be \"ab\", \"cd\".\n",
    "Example 3:\n",
    "\n",
    "Input: words = [\"a\",\"aa\",\"aaa\",\"aaaa\"]\n",
    "Output: 0\n",
    "Explanation: No such pair of words.\n",
    " \n",
    "\n",
    "Constraints:\n",
    "\n",
    "2 <= words.length <= 1000\n",
    "1 <= words[i].length <= 1000\n",
    "words[i] consists only of lowercase English letters.\n"
   ]
  },
  {
   "cell_type": "code",
   "execution_count": 9,
   "id": "e7116660-9557-4fa4-aa82-bd1937c68316",
   "metadata": {},
   "outputs": [
    {
     "name": "stdout",
     "output_type": "stream",
     "text": [
      "16\n",
      "4\n",
      "0\n"
     ]
    }
   ],
   "source": [
    "def max_word_product(words):\n",
    "    max_product = 0\n",
    "    n = len(words)\n",
    "\n",
    "    for i in range(n):\n",
    "        for j in range(i + 1, n):\n",
    "            # Convert both words to sets of characters\n",
    "            set1 = set(words[i])\n",
    "            set2 = set(words[j])\n",
    "\n",
    "            # Check if they have no common letters\n",
    "            if set1.isdisjoint(set2):\n",
    "                product = len(words[i]) * len(words[j])\n",
    "                if product > max_product:\n",
    "                    max_product = product\n",
    "\n",
    "    return max_product\n",
    "\n",
    "words1 = [\"abcw\", \"baz\", \"foo\", \"bar\", \"xtfn\", \"abcdef\"]\n",
    "print(max_word_product(words1))  # Output: 16\n",
    "\n",
    "words2 = [\"a\",\"ab\",\"abc\",\"d\",\"cd\",\"bcd\",\"abcd\"]\n",
    "print(max_word_product(words2))  # Output: 4\n",
    "\n",
    "words3 = [\"a\",\"aa\",\"aaa\",\"aaaa\"]\n",
    "print(max_word_product(words3))  # Output: 0"
   ]
  },
  {
   "cell_type": "code",
   "execution_count": null,
   "id": "53dd3c8e-3bc2-43c4-bfdd-f120d71a22df",
   "metadata": {},
   "outputs": [],
   "source": []
  },
  {
   "cell_type": "code",
   "execution_count": null,
   "id": "04afdaa0-b7f5-4500-8b18-e2d6d77c70f5",
   "metadata": {},
   "outputs": [],
   "source": []
  }
 ],
 "metadata": {
  "kernelspec": {
   "display_name": "Python [conda env:base] *",
   "language": "python",
   "name": "conda-base-py"
  },
  "language_info": {
   "codemirror_mode": {
    "name": "ipython",
    "version": 3
   },
   "file_extension": ".py",
   "mimetype": "text/x-python",
   "name": "python",
   "nbconvert_exporter": "python",
   "pygments_lexer": "ipython3",
   "version": "3.12.7"
  }
 },
 "nbformat": 4,
 "nbformat_minor": 5
}

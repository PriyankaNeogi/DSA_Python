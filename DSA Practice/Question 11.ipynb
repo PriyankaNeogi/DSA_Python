{
 "cells": [
  {
   "cell_type": "markdown",
   "id": "08bc7982-b719-44ad-8a65-9d1d5a864ec2",
   "metadata": {},
   "source": [
    "## Longest subarray\n",
    "\n",
    "## Day 6\n",
    "## Question 11: Longest Substring with At Most Two Distinct Characters\n",
    "\n",
    "Given a string s, return the length of the longest substring that contains at most two distinc\n",
    "characters.\n",
    "\n",
    "Test Cases\n",
    "\n",
    "Example 1:\n",
    "\n",
    "Input: s = \"eceba\"\n",
    "\n",
    "Output: 3\n",
    "\n",
    "Explanation: The substring is \"ece\" which its length is 3.\n",
    "\n",
    "Example 2:\n",
    "\n",
    "Input: s = \"ccaabbb\"\n",
    "\n",
    "Output: 5\n",
    "\n",
    "Explanation: The substring is \"aabbb\" which its length is 5."
   ]
  },
  {
   "cell_type": "code",
   "execution_count": 13,
   "id": "b2dcac3c-75e2-4575-8c47-6eca243ba18b",
   "metadata": {},
   "outputs": [
    {
     "name": "stdout",
     "output_type": "stream",
     "text": [
      "3\n",
      "5\n"
     ]
    }
   ],
   "source": [
    "def longest_subarray_two_distinct(s):\n",
    "    max_length = 0\n",
    "    \n",
    "    for i in range(len(s)):  # Starting point\n",
    "        unique_chars = set()\n",
    "        current_length = 0\n",
    "        \n",
    "        for j in range(i, len(s)):  # Ending point\n",
    "            unique_chars.add(s[j])\n",
    "            \n",
    "            if len(unique_chars) > 2:\n",
    "                break  # More than 2 distinct characters, stop this subarray\n",
    "            \n",
    "            current_length += 1\n",
    "            max_length = max(max_length, current_length)\n",
    "    \n",
    "    return max_length\n",
    "\n",
    "# Test Cases\n",
    "print(longest_subarray_two_distinct(\"eceba\"))     # Output: 3\n",
    "print(longest_subarray_two_distinct(\"ccaabbb\"))   # Output: 5\n"
   ]
  },
  {
   "cell_type": "code",
   "execution_count": null,
   "id": "cd6aa60a-7a0c-496f-bc41-7a9af3d04c2c",
   "metadata": {},
   "outputs": [],
   "source": []
  }
 ],
 "metadata": {
  "kernelspec": {
   "display_name": "Python [conda env:base] *",
   "language": "python",
   "name": "conda-base-py"
  },
  "language_info": {
   "codemirror_mode": {
    "name": "ipython",
    "version": 3
   },
   "file_extension": ".py",
   "mimetype": "text/x-python",
   "name": "python",
   "nbconvert_exporter": "python",
   "pygments_lexer": "ipython3",
   "version": "3.12.7"
  }
 },
 "nbformat": 4,
 "nbformat_minor": 5
}

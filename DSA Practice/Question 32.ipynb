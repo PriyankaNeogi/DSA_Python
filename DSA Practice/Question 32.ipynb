{
 "cells": [
  {
   "cell_type": "markdown",
   "id": "b5f59232-0799-4efa-8511-acfc7b478819",
   "metadata": {},
   "source": [
    "# DAy 16 - Q 32\n",
    "\n",
    "https://leetcode.com/problems/additive-number/description/?envType=problem-list-v2&envId=string\n",
    "\n",
    "An additive number is a string whose digits can form an additive sequence.\n",
    "\n",
    "A valid additive sequence should contain at least three numbers. Except for the first two numbers, each subsequent number in the sequence must be the sum of the preceding two.\n",
    "\n",
    "Given a string containing only digits, return true if it is an additive number or false otherwise.\n",
    "\n",
    "Note: Numbers in the additive sequence cannot have leading zeros, so sequence 1, 2, 03 or 1, 02, 3 is invalid.\n",
    "\n",
    " \n",
    "\n",
    "Example 1:\n",
    "\n",
    "Input: \"112358\"\n",
    "Output: true\n",
    "Explanation: \n",
    "The digits can form an additive sequence: 1, 1, 2, 3, 5, 8. \n",
    "1 + 1 = 2, 1 + 2 = 3, 2 + 3 = 5, 3 + 5 = 8\n",
    "Example 2:\n",
    "\n",
    "Input: \"199100199\"\n",
    "Output: true\n",
    "Explanation: \n",
    "The additive sequence is: 1, 99, 100, 199. \n",
    "1 + 99 = 100, 99 + 100 = 199\n",
    " \n",
    "\n",
    "Constraints:\n",
    "\n",
    "1 <= num.length <= 35\n",
    "num consists only of digits.\n",
    " "
   ]
  },
  {
   "cell_type": "code",
   "execution_count": 19,
   "id": "847e383f-51f3-42d6-8804-21dd92f59c87",
   "metadata": {},
   "outputs": [
    {
     "name": "stdout",
     "output_type": "stream",
     "text": [
      "True\n",
      "True\n"
     ]
    }
   ],
   "source": [
    "def is_additive_number(num):\n",
    "    n = len(num)\n",
    "    for i in range(1, n):\n",
    "        for j in range(i + 1, n):\n",
    "            num1, num2 = num[:i], num[i:j]\n",
    "            if (num1[0] == \"0\" and len(num1) > 1) or (num2[0] == \"0\" and len(num2) > 1):\n",
    "                continue\n",
    "            while j < n:\n",
    "                num3 = str(int(num1) + int(num2))\n",
    "                if not num.startswith(num3, j):\n",
    "                    break\n",
    "                j += len(num3)\n",
    "                num1, num2 = num2, num3\n",
    "                if j == n:\n",
    "                    return True\n",
    "    return False\n",
    "\n",
    "print(is_additive_number(\"112358\"))\n",
    "print(is_additive_number(\"199100199\"))\n"
   ]
  },
  {
   "cell_type": "code",
   "execution_count": null,
   "id": "d5261b4b-499f-4b5b-abe3-75caa3c0ae48",
   "metadata": {},
   "outputs": [],
   "source": []
  }
 ],
 "metadata": {
  "kernelspec": {
   "display_name": "Python [conda env:base] *",
   "language": "python",
   "name": "conda-base-py"
  },
  "language_info": {
   "codemirror_mode": {
    "name": "ipython",
    "version": 3
   },
   "file_extension": ".py",
   "mimetype": "text/x-python",
   "name": "python",
   "nbconvert_exporter": "python",
   "pygments_lexer": "ipython3",
   "version": "3.12.7"
  }
 },
 "nbformat": 4,
 "nbformat_minor": 5
}

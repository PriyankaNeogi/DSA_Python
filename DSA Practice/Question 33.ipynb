{
 "cells": [
  {
   "cell_type": "markdown",
   "id": "62e8afbf-ce37-4b96-9da3-14290b818f74",
   "metadata": {},
   "source": [
    "Q 33 \n",
    "\n",
    "https://leetcode.com/problems/capacity-to-ship-packages-within-d-days/description/\n",
    "\n",
    "A conveyor belt has packages that must be shipped from one port to another within days days.\n",
    "\n",
    "The ith package on the conveyor belt has a weight of weights[i]. Each day, we load the ship with packages on the conveyor belt (in the order given by weights). We may not load more weight than the maximum weight capacity of the ship.\n",
    "\n",
    "Return the least weight capacity of the ship that will result in all the packages on the conveyor belt being shipped within days days.\n",
    "\n",
    " \n",
    "\n",
    "Example 1:\n",
    "\n",
    "Input: weights = [1,2,3,4,5,6,7,8,9,10], days = 5\n",
    "Output: 15\n",
    "Explanation: A ship capacity of 15 is the minimum to ship all the packages in 5 days like this:\n",
    "1st day: 1, 2, 3, 4, 5\n",
    "2nd day: 6, 7\n",
    "3rd day: 8\n",
    "4th day: 9\n",
    "5th day: 10\n",
    "\n",
    "Note that the cargo must be shipped in the order given, so using a ship of capacity 14 and splitting the packages into parts like (2, 3, 4, 5), (1, 6, 7), (8), (9), (10) is not allowed.\n",
    "Example 2:\n",
    "\n",
    "Input: weights = [3,2,2,4,1,4], days = 3\n",
    "Output: 6\n",
    "Explanation: A ship capacity of 6 is the minimum to ship all the packages in 3 days like this:\n",
    "1st day: 3, 2\n",
    "2nd day: 2, 4\n",
    "3rd day: 1, 4\n",
    "Example 3:\n",
    "\n",
    "Input: weights = [1,2,3,1,1], days = 4\n",
    "Output: 3\n",
    "Explanation:\n",
    "1st day: 1\n",
    "2nd day: 2\n",
    "3rd day: 3\n",
    "4th day: 1, 1\n",
    " \n",
    "\n",
    "Constraints:\n",
    "\n",
    "1 <= days <= weights.length <= 5 * 104\n",
    "1 <= weights[i] <= 500\n",
    "\n"
   ]
  },
  {
   "cell_type": "code",
   "execution_count": 12,
   "id": "4d1181c2-2ea0-4d8e-bce7-33e8d92af033",
   "metadata": {},
   "outputs": [
    {
     "name": "stdout",
     "output_type": "stream",
     "text": [
      "15\n",
      "6\n",
      "3\n"
     ]
    }
   ],
   "source": [
    "def minShipCapacity(weights, days):\n",
    "    def canShip(capacity):\n",
    "        total, day_count = 0, 1\n",
    "        for w in weights:\n",
    "            if total + w > capacity:\n",
    "                day_count += 1\n",
    "                total = 0\n",
    "            total += w\n",
    "            if day_count > days:\n",
    "                return False\n",
    "        return True\n",
    "\n",
    "    capacity = max(weights)  # Start with the largest package\n",
    "    while not canShip(capacity):\n",
    "        capacity += 1  # Increment capacity until it can ship within days\n",
    "\n",
    "    return capacity\n",
    "\n",
    "# Test cases\n",
    "print(minShipCapacity([1,2,3,4,5,6,7,8,9,10], 5))  # Output: 15\n",
    "print(minShipCapacity([3,2,2,4,1,4], 3))  # Output: 6\n",
    "print(minShipCapacity([1,2,3,1,1], 4))  # Output: 3\n"
   ]
  },
  {
   "cell_type": "code",
   "execution_count": null,
   "id": "943b22aa-5ba4-481f-93bc-f258b5e6dea6",
   "metadata": {},
   "outputs": [],
   "source": []
  }
 ],
 "metadata": {
  "kernelspec": {
   "display_name": "Python [conda env:base] *",
   "language": "python",
   "name": "conda-base-py"
  },
  "language_info": {
   "codemirror_mode": {
    "name": "ipython",
    "version": 3
   },
   "file_extension": ".py",
   "mimetype": "text/x-python",
   "name": "python",
   "nbconvert_exporter": "python",
   "pygments_lexer": "ipython3",
   "version": "3.12.7"
  }
 },
 "nbformat": 4,
 "nbformat_minor": 5
}

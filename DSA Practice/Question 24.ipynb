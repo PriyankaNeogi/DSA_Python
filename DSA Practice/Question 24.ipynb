{
 "cells": [
  {
   "cell_type": "markdown",
   "id": "bc9ed1b6-d037-4522-8eb2-b5ad888bdd4a",
   "metadata": {},
   "source": [
    "## Question 24: Deep Nested List + Comprehension + Filtering by Condition\n",
    "\n",
    "Problem Statement:\n",
    "\n",
    "You’re given a nested list where each element represents a city. Each city contains areas,\n",
    "and each area has a list of temperature readings for the past 7 days. Find the city name(s)\n",
    "where all areas had an average temperature above 30°C over the week. Return a list of such\n",
    "city names using nested list and dictionary comprehension.\n",
    "\n",
    "Input:\n",
    "cities = [\n",
    "{\n",
    "'name': 'Mumbai',\n",
    "'areas': {\n",
    "'Andheri': [32, 33, 31, 30, 29, 34, 35],\n",
    "'Bandra': [31, 32, 30, 30, 31, 33, 34],\n",
    "}\n",
    "},\n",
    "{\n",
    "'name': 'Delhi',\n",
    "'areas': {\n",
    "'Rohini': [28, 29, 27, 30, 31, 32, 29],\n",
    "'Saket': [33, 35, 36, 34, 33, 32, 31],\n",
    "}\n",
    "},\n",
    "{\n",
    "'name': 'Chennai',\n",
    "'areas': {\n",
    "'T Nagar': [34, 35, 36, 37, 34, 35, 33],\n",
    "'Velachery': [32, 31, 33, 34, 32, 30, 31]\n",
    "}\n",
    "}\n",
    "]\n",
    "\n",
    "Expected Output:\n",
    "['Chennai']"
   ]
  },
  {
   "cell_type": "code",
   "execution_count": 13,
   "id": "7feebd48-0237-4adb-b8f0-95581a18aa7e",
   "metadata": {
    "scrolled": true
   },
   "outputs": [
    {
     "name": "stdout",
     "output_type": "stream",
     "text": [
      "['Mumbai', 'Chennai']\n"
     ]
    }
   ],
   "source": [
    "cities = [\n",
    "    {\n",
    "        'name': 'Mumbai',\n",
    "        'areas': {\n",
    "            'Andheri': [32, 33, 31, 30, 29, 34, 35],  # Avg = 32\n",
    "            'Bandra': [31, 32, 30, 30, 31, 33, 34],  # Avg = 31.57\n",
    "        }\n",
    "    },\n",
    "    {\n",
    "        'name': 'Delhi',\n",
    "        'areas': {\n",
    "            'Rohini': [28, 29, 27, 30, 31, 32, 29],  # Avg = 29.43 \n",
    "            'Saket': [33, 35, 36, 34, 33, 32, 31],  # Avg = 33.43\n",
    "        }\n",
    "    },\n",
    "    {\n",
    "        'name': 'Chennai',\n",
    "        'areas': {\n",
    "            'T Nagar': [34, 35, 36, 37, 34, 35, 33],  # Avg = 34.86\n",
    "            'Velachery': [32, 31, 33, 34, 32, 30, 31] # Avg = 31.57\n",
    "        }\n",
    "    }\n",
    "]\n",
    "\n",
    "\n",
    "correct_result = [\n",
    "    city['name']\n",
    "    for city in cities\n",
    "    if all(sum(temps) / len(temps) > 30 for temps in city['areas'].values())\n",
    "]\n",
    "\n",
    "\n",
    "print(correct_result)\n"
   ]
  },
  {
   "cell_type": "code",
   "execution_count": null,
   "id": "c59b7489-f050-4605-9007-2c6410aa77c8",
   "metadata": {},
   "outputs": [],
   "source": []
  }
 ],
 "metadata": {
  "kernelspec": {
   "display_name": "Python [conda env:base] *",
   "language": "python",
   "name": "conda-base-py"
  },
  "language_info": {
   "codemirror_mode": {
    "name": "ipython",
    "version": 3
   },
   "file_extension": ".py",
   "mimetype": "text/x-python",
   "name": "python",
   "nbconvert_exporter": "python",
   "pygments_lexer": "ipython3",
   "version": "3.12.7"
  }
 },
 "nbformat": 4,
 "nbformat_minor": 5
}

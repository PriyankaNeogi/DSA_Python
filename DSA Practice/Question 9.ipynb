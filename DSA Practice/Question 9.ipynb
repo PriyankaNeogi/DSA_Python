{
 "cells": [
  {
   "cell_type": "markdown",
   "id": "f70b2457-6bde-4f81-ae62-c4220cf65f59",
   "metadata": {},
   "source": [
    "## Day 5\n",
    "## Question 9: Find Peak Element\n",
    "\n",
    "A peak element is an element that is strictly greater than its neighbors. Given a 0-indexed integer array nums, find a peak element, and return its index. If the array contain: multiple peaks, return the index to any of the peaks. You may imagine that \n",
    "\n",
    "nums[-1] = nums[n] = -∞.\n",
    "\n",
    "In other words, an element is always considered to\n",
    "be strictly greater than a neighbor that is outside the array.\n",
    "\n",
    "Test Cases\n",
    "\n",
    "Example 1:\n",
    "\n",
    "Input: nums = [1,2,3,1]\n",
    "\n",
    "Output: 2 Explanation: 3 is a peak element and your function\n",
    "should return the index number 2.\n",
    "\n",
    "Example 2:\n",
    "\n",
    "Input: nums = [1,2,1,3,5,6,4]\n",
    "\n",
    "Output: 5"
   ]
  },
  {
   "cell_type": "code",
   "execution_count": 13,
   "id": "98b4c7c2-e73f-4299-88c4-fee0475a0708",
   "metadata": {},
   "outputs": [
    {
     "name": "stdout",
     "output_type": "stream",
     "text": [
      "2\n",
      "5\n",
      "2\n"
     ]
    }
   ],
   "source": [
    "def peak_element(nums):\n",
    "    n = len(nums)\n",
    "    \n",
    "\n",
    "    # Check last element\n",
    "    if nums[n - 1] > nums[n - 2]:\n",
    "        return n - 1\n",
    "\n",
    "    # Check middle elements\n",
    "    peaks = []\n",
    "    for i in range(1, n - 1):\n",
    "        if nums[i] > nums[i - 1] and nums[i] > nums[i + 1]:\n",
    "            peaks.append(i)  # Collect all possible peaks\n",
    "\n",
    "    \n",
    "    return peaks[-1] if peaks else -1\n",
    "\n",
    "# Test Cases\n",
    "print(peak_element([1, 2, 3, 1]))         # Output: 2 ✅\n",
    "print(peak_element([1, 2, 1, 3, 5, 6, 4])) # Output: 5 ✅\n",
    "print(peak_element([3, 4, 5, 1]))          # Output: 2 ✅\n"
   ]
  },
  {
   "cell_type": "code",
   "execution_count": null,
   "id": "1ab418c2-b08b-46be-9739-6f9bebf1826a",
   "metadata": {},
   "outputs": [],
   "source": []
  }
 ],
 "metadata": {
  "kernelspec": {
   "display_name": "Python [conda env:base] *",
   "language": "python",
   "name": "conda-base-py"
  },
  "language_info": {
   "codemirror_mode": {
    "name": "ipython",
    "version": 3
   },
   "file_extension": ".py",
   "mimetype": "text/x-python",
   "name": "python",
   "nbconvert_exporter": "python",
   "pygments_lexer": "ipython3",
   "version": "3.12.7"
  }
 },
 "nbformat": 4,
 "nbformat_minor": 5
}

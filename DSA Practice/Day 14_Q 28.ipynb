{
 "cells": [
  {
   "cell_type": "markdown",
   "id": "0c243a6b-edf2-4118-afcd-4f3f1815db9f",
   "metadata": {},
   "source": [
    "## Question 28: Analyzing Survey Data\n",
    "\n",
    "Problem Statement:\n",
    "\n",
    "You’re given a list of survey responses from customers. Each response is a dictionary with:\n",
    "- • 'name': name of the customer,\n",
    "- • 'responses': a dictionary where keys are question IDs and values are ratings from\n",
    "1 to 5.\n",
    "  \n",
    "Write a function find_consistent_customers(surveys: List[Dict]) -> List[str] that\n",
    "returns the names of all customers who:\n",
    "\n",
    "1. Answered at least 3 questions, and\n",
    "2. Gave the same rating to every question they answered.\n",
    "   \n",
    "Input:\n",
    "\n",
    "surveys = [\n",
    "{'name': 'Amit', 'responses': {'Q1': 5, 'Q2': 5, 'Q3': 5}},\n",
    "{'name': 'Priya', 'responses': {'Q1': 4, 'Q2': 4, 'Q3': 5}},\n",
    "{'name': 'Sahil', 'responses': {'Q1': 3, 'Q2': 3, 'Q3': 3, 'Q4': 3}},\n",
    "{'name': 'Riya', 'responses': {'Q1': 1, 'Q2': 2}},\n",
    "{'name': 'Karan', 'responses': {'Q1': 5, 'Q2': 5, 'Q3': 5, 'Q4': 4}}\n",
    "]\n",
    "\n",
    "Expected Output:\n",
    "\n",
    "['Amit', 'Sahil']\n",
    "\n",
    "Explanation:\n",
    "• Amit → 3 questions, all 5 →\n",
    "• Priya → 3 questions, but has 5 and 4 →\n",
    "• Sahil → 4 questions, all 3 →\n",
    "• Riya → only 2 questions →\n",
    "• Karan → 4 questions, but has both 5 and 4 →"
   ]
  },
  {
   "cell_type": "code",
   "execution_count": 5,
   "id": "94203dc2-0689-4cc1-8020-a545cc9cc81e",
   "metadata": {},
   "outputs": [
    {
     "name": "stdout",
     "output_type": "stream",
     "text": [
      "['Amit', 'Sahil']\n"
     ]
    }
   ],
   "source": [
    "def consistent_customers(surveys):\n",
    "    result = []\n",
    "\n",
    "    for survey in surveys:\n",
    "        ratings = list(survey[\"responses\"].values())\n",
    "        \n",
    "        if len(ratings) >= 3 and len(set(ratings)) == 1:\n",
    "            result.append(survey[\"name\"])\n",
    "\n",
    "    return result\n",
    "\n",
    "surveys = [\n",
    "    {'name': 'Amit', 'responses': {'Q1': 5, 'Q2': 5, 'Q3': 5}},\n",
    "    {'name': 'Priya', 'responses': {'Q1': 4, 'Q2': 4, 'Q3': 5}},\n",
    "    {'name': 'Sahil', 'responses': {'Q1': 3, 'Q2': 3, 'Q3': 3, 'Q4': 3}},\n",
    "    {'name': 'Riya', 'responses': {'Q1': 1, 'Q2': 2}},\n",
    "    {'name': 'Karan', 'responses': {'Q1': 5, 'Q2': 5, 'Q3': 5, 'Q4': 4}}\n",
    "]\n",
    "\n",
    "print(consistent_customers(surveys))\n"
   ]
  },
  {
   "cell_type": "code",
   "execution_count": null,
   "id": "8bcda74a-972f-4c66-ae0d-1a1c49ab4c71",
   "metadata": {},
   "outputs": [],
   "source": []
  }
 ],
 "metadata": {
  "kernelspec": {
   "display_name": "Python [conda env:base] *",
   "language": "python",
   "name": "conda-base-py"
  },
  "language_info": {
   "codemirror_mode": {
    "name": "ipython",
    "version": 3
   },
   "file_extension": ".py",
   "mimetype": "text/x-python",
   "name": "python",
   "nbconvert_exporter": "python",
   "pygments_lexer": "ipython3",
   "version": "3.12.7"
  }
 },
 "nbformat": 4,
 "nbformat_minor": 5
}

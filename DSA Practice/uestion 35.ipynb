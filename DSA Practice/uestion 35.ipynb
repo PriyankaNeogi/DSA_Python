{
 "cells": [
  {
   "cell_type": "markdown",
   "id": "8d551814-5dd3-445c-af8f-5b67486fef6e",
   "metadata": {},
   "source": [
    "https://leetcode.com/problems/insert-interval/description/\n",
    "\n",
    "You are given an array of non-overlapping intervals intervals where intervals[i] = [starti, endi] represent the start and the end of the ith interval and intervals is sorted in ascending order by starti. You are also given an interval newInterval = [start, end] that represents the start and end of another interval.\n",
    "\n",
    "Insert newInterval into intervals such that intervals is still sorted in ascending order by starti and intervals still does not have any overlapping intervals (merge overlapping intervals if necessary).\n",
    "\n",
    "Return intervals after the insertion.\n",
    "\n",
    "Note that you don't need to modify intervals in-place. You can make a new array and return it.\n",
    "\n",
    " \n",
    "\n",
    "Example 1:\n",
    "\n",
    "Input: intervals = [[1,3],[6,9]], newInterval = [2,5]\n",
    "Output: [[1,5],[6,9]]\n",
    "Example 2:\n",
    "\n",
    "Input: intervals = [[1,2],[3,5],[6,7],[8,10],[12,16]], newInterval = [4,8]\n",
    "Output: [[1,2],[3,10],[12,16]]\n",
    "Explanation: Because the new interval [4,8] overlaps with [3,5],[6,7],[8,10].\n",
    " \n",
    "\n",
    "Constraints:\n",
    "\n",
    "0 <= intervals.length <= 104\n",
    "intervals[i].length == 2\n",
    "0 <= starti <= endi <= 105\n",
    "intervals is sorted by starti in ascending order.\n",
    "newInterval.length == 2\n",
    "0 <= start <= end <= 105\n"
   ]
  },
  {
   "cell_type": "code",
   "execution_count": 11,
   "id": "1e86a881-e496-4c79-917c-fa69e9745113",
   "metadata": {},
   "outputs": [
    {
     "name": "stdout",
     "output_type": "stream",
     "text": [
      "[[1, 5], [6, 9]]\n",
      "[[1, 2], [3, 10], [12, 16]]\n"
     ]
    }
   ],
   "source": [
    "def merge_intervals(lst, new):\n",
    "    lst.append(new)\n",
    "    lst.sort()\n",
    "    res = []\n",
    "    for i in lst:\n",
    "        if not res or res[-1][1] < i[0]:\n",
    "            res.append(i)\n",
    "        else:\n",
    "            res[-1][1] = max(res[-1][1], i[1])\n",
    "    return res\n",
    "\n",
    "print(merge_intervals([[1,3],[6,9]], [2,5]))\n",
    "print(merge_intervals([[1,2],[3,5],[6,7],[8,10],[12,16]], [4,8]))\n"
   ]
  },
  {
   "cell_type": "code",
   "execution_count": null,
   "id": "62a0964e-a6e0-46b3-9862-4bf92c041b9d",
   "metadata": {},
   "outputs": [],
   "source": []
  }
 ],
 "metadata": {
  "kernelspec": {
   "display_name": "Python [conda env:base] *",
   "language": "python",
   "name": "conda-base-py"
  },
  "language_info": {
   "codemirror_mode": {
    "name": "ipython",
    "version": 3
   },
   "file_extension": ".py",
   "mimetype": "text/x-python",
   "name": "python",
   "nbconvert_exporter": "python",
   "pygments_lexer": "ipython3",
   "version": "3.12.7"
  }
 },
 "nbformat": 4,
 "nbformat_minor": 5
}

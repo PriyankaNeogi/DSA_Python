{
 "cells": [
  {
   "cell_type": "markdown",
   "id": "2b68ad6a-79eb-4094-81aa-01a7d82b644a",
   "metadata": {},
   "source": [
    "https://leetcode.com/problems/merge-intervals/description/\n",
    "\n",
    "Given an array of intervals where intervals[i] = [starti, endi], merge all overlapping intervals, and return an array of the non-overlapping intervals that cover all the intervals in the input.\n",
    "\n",
    " \n",
    "\n",
    "Example 1:\n",
    "\n",
    "Input: intervals = [[1,3],[2,6],[8,10],[15,18]]\n",
    "Output: [[1,6],[8,10],[15,18]]\n",
    "Explanation: Since intervals [1,3] and [2,6] overlap, merge them into [1,6].\n",
    "Example 2:\n",
    "\n",
    "Input: intervals = [[1,4],[4,5]]\n",
    "Output: [[1,5]]\n",
    "Explanation: Intervals [1,4] and [4,5] are considered overlapping.\n",
    " \n",
    "\n",
    "Constraints:\n",
    "\n",
    "1 <= intervals.length <= 104\n",
    "intervals[i].length == 2\n",
    "0 <= starti <= endi <= 104\n"
   ]
  },
  {
   "cell_type": "code",
   "execution_count": 6,
   "id": "1e9845fa-40f9-4a76-bded-07437deaa9a2",
   "metadata": {},
   "outputs": [
    {
     "name": "stdout",
     "output_type": "stream",
     "text": [
      "[[1, 6], [8, 10], [15, 18]]\n",
      "[[1, 5]]\n"
     ]
    }
   ],
   "source": [
    "def merge(arr):\n",
    "    arr.sort()\n",
    "    res = []\n",
    "    \n",
    "    for i in arr:\n",
    "        if res and i[0] <= res[-1][1]:\n",
    "            res[-1][1] = max(res[-1][1], i[1])\n",
    "        else:\n",
    "            res.append(i)\n",
    "    \n",
    "    return res\n",
    "\n",
    "print(merge([[1,3],[2,6],[8,10],[15,18]]))  # [[1,6],[8,10],[15,18]]\n",
    "print(merge([[1,4],[4,5]]))  # [[1,5]]\n"
   ]
  },
  {
   "cell_type": "code",
   "execution_count": null,
   "id": "e1a77bce-2be3-44c3-b85e-354d9d49486f",
   "metadata": {},
   "outputs": [],
   "source": []
  }
 ],
 "metadata": {
  "kernelspec": {
   "display_name": "Python [conda env:base] *",
   "language": "python",
   "name": "conda-base-py"
  },
  "language_info": {
   "codemirror_mode": {
    "name": "ipython",
    "version": 3
   },
   "file_extension": ".py",
   "mimetype": "text/x-python",
   "name": "python",
   "nbconvert_exporter": "python",
   "pygments_lexer": "ipython3",
   "version": "3.12.7"
  }
 },
 "nbformat": 4,
 "nbformat_minor": 5
}

{
 "cells": [
  {
   "cell_type": "markdown",
   "id": "c407d14f-cec4-4410-a81c-b56bbd8c6c8b",
   "metadata": {},
   "source": [
    "https://leetcode.com/problems/combination-sum-iii/description/?envType=problem-list-v2&envId=array\n",
    "\n",
    "\n",
    "Find all valid combinations of k numbers that sum up to n such that the following conditions are true:\n",
    "\n",
    "Only numbers 1 through 9 are used.\n",
    "Each number is used at most once.\n",
    "Return a list of all possible valid combinations. The list must not contain the same combination twice, and the combinations may be returned in any order.\n",
    "\n",
    " \n",
    "\n",
    "Example 1:\n",
    "\n",
    "Input: k = 3, n = 7\n",
    "Output: [[1,2,4]]\n",
    "Explanation:\n",
    "1 + 2 + 4 = 7\n",
    "There are no other valid combinations.\n",
    "Example 2:\n",
    "\n",
    "Input: k = 3, n = 9\n",
    "Output: [[1,2,6],[1,3,5],[2,3,4]]\n",
    "Explanation:\n",
    "1 + 2 + 6 = 9\n",
    "1 + 3 + 5 = 9\n",
    "2 + 3 + 4 = 9\n",
    "There are no other valid combinations.\n",
    "Example 3:\n",
    "\n",
    "Input: k = 4, n = 1\n",
    "Output: []\n",
    "Explanation: There are no valid combinations.\n",
    "Using 4 different numbers in the range [1,9], the smallest sum we can get is 1+2+3+4 = 10 and since 10 > 1, there are no valid combination.\n",
    " \n",
    "\n",
    "Constraints:\n",
    "\n",
    "2 <= k <= 9\n",
    "1 <= n <= 60\n"
   ]
  },
  {
   "cell_type": "code",
   "execution_count": 4,
   "id": "04e19a93-ebee-4832-9234-39b02da6a216",
   "metadata": {},
   "outputs": [
    {
     "name": "stdout",
     "output_type": "stream",
     "text": [
      "[[1, 2, 4]]\n",
      "[[1, 2, 6], [1, 3, 5], [2, 3, 4]]\n",
      "[]\n"
     ]
    }
   ],
   "source": [
    "def find_combinations(k, n):\n",
    "    result = []\n",
    "\n",
    "    def helper(start, path, total):\n",
    "        if len(path) == k and total == n:\n",
    "            result.append(path[:])\n",
    "            return\n",
    "        if len(path) > k or total > n:\n",
    "            return\n",
    "\n",
    "        for i in range(start, 10):\n",
    "            path.append(i)\n",
    "            helper(i + 1, path, total + i)\n",
    "            path.pop()\n",
    "\n",
    "    helper(1, [], 0)\n",
    "    return result\n",
    "\n",
    "\n",
    "print(find_combinations(3, 7))  # Output: [[1, 2, 4]]\n",
    "print(find_combinations(3, 9))  # Output: [[1, 2, 6], [1, 3, 5], [2, 3, 4]]\n",
    "print(find_combinations(4, 1))  # Output: []"
   ]
  },
  {
   "cell_type": "code",
   "execution_count": null,
   "id": "9119a115-748d-47ae-9d8a-085ec1ff954b",
   "metadata": {},
   "outputs": [],
   "source": []
  }
 ],
 "metadata": {
  "kernelspec": {
   "display_name": "Python [conda env:base] *",
   "language": "python",
   "name": "conda-base-py"
  },
  "language_info": {
   "codemirror_mode": {
    "name": "ipython",
    "version": 3
   },
   "file_extension": ".py",
   "mimetype": "text/x-python",
   "name": "python",
   "nbconvert_exporter": "python",
   "pygments_lexer": "ipython3",
   "version": "3.12.7"
  }
 },
 "nbformat": 4,
 "nbformat_minor": 5
}

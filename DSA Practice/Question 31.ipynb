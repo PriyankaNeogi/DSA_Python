{
 "cells": [
  {
   "cell_type": "markdown",
   "id": "167b4019-612c-4b73-844d-47ccea7a4bde",
   "metadata": {},
   "source": [
    "# DAY 16 Q 31\n",
    "\n",
    "https://leetcode.com/problems/basic-calculator/description/?envType=problem-list-v2&envId=string\n",
    "\n",
    "Given a string s representing a valid expression, implement a basic calculator to evaluate it, and return the result of the evaluation.\n",
    "\n",
    "Note: You are not allowed to use any built-in function which evaluates strings as mathematical expressions, such as eval().\n",
    "\n",
    " \n",
    "\n",
    "Example 1:\n",
    "\n",
    "Input: s = \"1 + 1\"\n",
    "Output: 2\n",
    "Example 2:\n",
    "\n",
    "Input: s = \" 2-1 + 2 \"\n",
    "Output: 3\n",
    "Example 3:\n",
    "\n",
    "Input: s = \"(1+(4+5+2)-3)+(6+8)\"\n",
    "Output: 23\n",
    " \n",
    "\n",
    "Constraints:\n",
    "\n",
    "1 <= s.length <= 3 * 105\n",
    "s consists of digits, '+', '-', '(', ')', and ' '.\n",
    "s represents a valid expression.\n",
    "'+' is not used as a unary operation (i.e., \"+1\" and \"+(2 + 3)\" is invalid).\n",
    "'-' could be used as a unary operation (i.e., \"-1\" and \"-(2 + 3)\" is valid).\n",
    "There will be no two consecutive operators in the input.\n",
    "Every number and running calculation will fit in a signed 32-bit integer.\n"
   ]
  },
  {
   "cell_type": "code",
   "execution_count": 11,
   "id": "8520b388-8209-4006-8857-f33b6e70a421",
   "metadata": {},
   "outputs": [
    {
     "name": "stdout",
     "output_type": "stream",
     "text": [
      "2\n",
      "3\n",
      "23\n"
     ]
    }
   ],
   "source": [
    "def calculate(s: str) -> int:\n",
    "    stack, num, sign, result = [], 0, 1, 0\n",
    "    \n",
    "    for char in s:\n",
    "        if char.isdigit():\n",
    "            num = num * 10 + int(char)\n",
    "        elif char in ['+', '-']:\n",
    "            result += sign * num\n",
    "            num = 0\n",
    "            sign = 1 if char == '+' else -1\n",
    "        elif char == '(':\n",
    "            stack.append((result, sign))\n",
    "            result, sign = 0, 1\n",
    "        elif char == ')':\n",
    "            result += sign * num\n",
    "            num = 0\n",
    "            prev_result, prev_sign = stack.pop()\n",
    "            result = prev_result + prev_sign * result\n",
    "    \n",
    "    return result + sign * num\n",
    "\n",
    "# Test cases\n",
    "print(calculate(\"1 + 1\"))  # Output: 2\n",
    "print(calculate(\" 2-1 + 2 \"))  # Output: 3\n",
    "print(calculate(\"(1+(4+5+2)-3)+(6+8)\"))  # Output: 23\n"
   ]
  },
  {
   "cell_type": "code",
   "execution_count": null,
   "id": "ff8d0335-a6ca-4763-8036-0ef0f1a51966",
   "metadata": {},
   "outputs": [],
   "source": []
  }
 ],
 "metadata": {
  "kernelspec": {
   "display_name": "Python [conda env:base] *",
   "language": "python",
   "name": "conda-base-py"
  },
  "language_info": {
   "codemirror_mode": {
    "name": "ipython",
    "version": 3
   },
   "file_extension": ".py",
   "mimetype": "text/x-python",
   "name": "python",
   "nbconvert_exporter": "python",
   "pygments_lexer": "ipython3",
   "version": "3.12.7"
  }
 },
 "nbformat": 4,
 "nbformat_minor": 5
}

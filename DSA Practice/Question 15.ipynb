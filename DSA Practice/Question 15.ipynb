{
 "cells": [
  {
   "cell_type": "markdown",
   "id": "a622df3d-6819-49bb-8ca8-48a71a6e2910",
   "metadata": {},
   "source": [
    "## DAY 8\n",
    "## Question 15: Jump Game\n",
    "\n",
    "You are given an integer array nums. You are initially positioned at the array's first index, and\n",
    "each element in the array represents your maximum jump length at that position.\n",
    "Return true if you can reach the last index, or false otherwise.\n",
    "\n",
    "Test Cases\n",
    "\n",
    "Example 1:\n",
    "\n",
    "Input: nums = [2,3,1,1,4]\n",
    "\n",
    "Output: true\n",
    "\n",
    "Explanation: Jump 1 step from index O to 1, then 3 steps to the last index.\n",
    "\n",
    "Example 2:\n",
    "\n",
    "Input: nums = [3,2,1,0,4]\n",
    "\n",
    "Output: false Explanation: You will always arrive at index 3 no matter what. Its maximum\n",
    "jump length is 0, which makes it impossible to reach the last index\n"
   ]
  },
  {
   "cell_type": "code",
   "execution_count": 15,
   "id": "80ee0d9b-2b3e-4409-9a4f-6043169182fb",
   "metadata": {},
   "outputs": [
    {
     "name": "stdout",
     "output_type": "stream",
     "text": [
      "True\n",
      "False\n"
     ]
    }
   ],
   "source": [
    "def can_jump(nums):\n",
    "    max_reach = 0\n",
    "    for i in range(len(nums)):\n",
    "        if i > max_reach:\n",
    "            return False\n",
    "        max_reach = max(max_reach, i + nums[i])\n",
    "        if max_reach >= len(nums) - 1:\n",
    "            return True\n",
    "    return True\n",
    "\n",
    "print(can_jump([2,3,1,1,4]))  # True\n",
    "print(can_jump([3,2,1,0,4]))  # False"
   ]
  },
  {
   "cell_type": "code",
   "execution_count": null,
   "id": "60e58b96-20bb-4232-88e1-20ce06488cc0",
   "metadata": {},
   "outputs": [],
   "source": []
  }
 ],
 "metadata": {
  "kernelspec": {
   "display_name": "Python [conda env:base] *",
   "language": "python",
   "name": "conda-base-py"
  },
  "language_info": {
   "codemirror_mode": {
    "name": "ipython",
    "version": 3
   },
   "file_extension": ".py",
   "mimetype": "text/x-python",
   "name": "python",
   "nbconvert_exporter": "python",
   "pygments_lexer": "ipython3",
   "version": "3.12.7"
  }
 },
 "nbformat": 4,
 "nbformat_minor": 5
}

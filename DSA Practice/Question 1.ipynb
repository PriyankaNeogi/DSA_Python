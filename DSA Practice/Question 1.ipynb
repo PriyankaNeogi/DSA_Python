{
 "cells": [
  {
   "cell_type": "markdown",
   "id": "305ae2bd-915b-4776-b8b7-52efff116619",
   "metadata": {},
   "source": [
    "## Day 1\n",
    "## Question 1: Sort Tuples by Sum of Elements\n",
    "\n",
    "You are given a list of tuples, where each tuple contains exactly two integers. Write a function that sorts this list in ascending order based on the sum of the integers in each tuple and returns the sorted list.\n",
    "\n",
    "- Function Signature\n",
    "```  \n",
    "def sort_by_tuple_sum(lst: list[tuple]) - list[tuple]:\n",
    "\n",
    "pass\n",
    "\n",
    "Test Cases:\n",
    "\n",
    "Input: [(3, 1), (2, 2), (5, -1), (0, 0)]\n",
    "\n",
    "Output: [(0, 0), (3, 1), (2, 2), (5, -1)]\n",
    "\n",
    "Input: [(7, 3), (1, 2), (4, 5), (0, 1)]\n",
    "\n",
    "Output: [(0, 1), (1, 2), (4, 5), (7, 3)]\n",
    "\n",
    "Input: [(8, -3), (1, 1), (2, 0), (5, 5), (3, 2)]\n",
    "\n",
    "Output: [(1, 1), (2, 0), (8, -3), (3, 2), (5, 5)]\n",
    "\n",
    "```"
   ]
  },
  {
   "cell_type": "code",
   "execution_count": 21,
   "id": "785897f2-e557-4790-8202-fe7dc2ad9365",
   "metadata": {},
   "outputs": [
    {
     "name": "stdout",
     "output_type": "stream",
     "text": [
      "[(0, 0), (3, 1), (2, 2), (5, -1)]\n",
      "[(0, 1), (1, 2), (4, 5), (7, 3)]\n",
      "[(1, 1), (2, 0), (8, -3), (3, 2), (5, 5)]\n"
     ]
    }
   ],
   "source": [
    "def sort_by_tuple_sum(lst):\n",
    "    # total length of the elements in the list \n",
    "    n = len(lst)\n",
    "\n",
    "    # outer loop till the length of the list \n",
    "    for i in range(n):\n",
    "\n",
    "        # inner loop where it takes the elements for comparision corresponding to the outer loop\n",
    "        for j in range(0, n-i-1):\n",
    "\n",
    "            # take the some of the first element in the inner loop\n",
    "            sum1 = lst[j][0] + lst[j][1]\n",
    "            # take the sum of the second element in the inner loop\n",
    "            sum2 = lst[j+1][0] + lst[j+1][1]\n",
    "\n",
    "            # Swap if the first sum is greater \n",
    "            if sum1 > sum2:  \n",
    "                lst[j], lst[j+1] = lst[j+1], lst[j]\n",
    "    \n",
    "    return lst\n",
    "\n",
    "# Test Cases\n",
    "print(sort_by_tuple_sum([(3, 1), (2, 2), (5, -1), (0, 0)]))   # Output: [(0, 0), (3, 1), (2, 2), (5, -1)]\n",
    "print(sort_by_tuple_sum([(7, 3), (1, 2), (4, 5), (0, 1)]))     # Output: [(0, 1), (1, 2), (4, 5), (7, 3)]\n",
    "print(sort_by_tuple_sum([(8, -3), (1, 1), (2, 0), (5, 5), (3, 2)]))  # Output: [(1, 1), (2, 0), (8, -3), (3, 2), (5, 5)]"
   ]
  },
  {
   "cell_type": "code",
   "execution_count": null,
   "id": "80fa3cca-0b43-42d1-85e5-a9687b28fd49",
   "metadata": {},
   "outputs": [],
   "source": []
  }
 ],
 "metadata": {
  "kernelspec": {
   "display_name": "Python [conda env:base] *",
   "language": "python",
   "name": "conda-base-py"
  },
  "language_info": {
   "codemirror_mode": {
    "name": "ipython",
    "version": 3
   },
   "file_extension": ".py",
   "mimetype": "text/x-python",
   "name": "python",
   "nbconvert_exporter": "python",
   "pygments_lexer": "ipython3",
   "version": "3.12.7"
  }
 },
 "nbformat": 4,
 "nbformat_minor": 5
}

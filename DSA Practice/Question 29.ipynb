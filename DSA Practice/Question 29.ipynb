{
 "cells": [
  {
   "cell_type": "markdown",
   "id": "dc3ab2a7-f6b3-40b8-9e41-0a0ddd0cffec",
   "metadata": {},
   "source": [
    "\n",
    "## DAY 15\n",
    "## Question 29: Longest Repeating Character Replacement \n",
    "\n",
    "You are given a string s and an integer k. You can choose any character of the string and change it to any other uppercase English character. You can perform this operation at\n",
    "most k times. Return the length of the longest substring containing the same letter you can get after\n",
    "performing the above operations.\n",
    "\n",
    "Example 1:\n",
    "\n",
    "Test Cases\n",
    "\n",
    "Input: s = \"ABAB\", k= 2\n",
    "\n",
    "Output: 4\n",
    "\n",
    "Explanation: Replace the two 'A's with two 'B's or vice versa.\n",
    "\n",
    "Example 2:\n",
    "\n",
    "Input: s= \"AABABBA\", k= 1\n",
    "\n",
    "Output: 4\n",
    "\n",
    "Explanation: Replace the one 'A' in the middle with 'B' and form 'AABBBBA'. The substring 'BBBB' is the largest of length 4. There may be other ways to achieve this."
   ]
  },
  {
   "cell_type": "code",
   "execution_count": 4,
   "id": "1550223d-798b-4aa8-9c95-16452cad33b0",
   "metadata": {},
   "outputs": [
    {
     "name": "stdout",
     "output_type": "stream",
     "text": [
      "4\n",
      "4\n"
     ]
    }
   ],
   "source": [
    "def character_replacement(s: str, k: int) -> int:\n",
    "    max_length = 0\n",
    "    unique_chars = set(s)\n",
    "    \n",
    "    for char in unique_chars:  \n",
    "        for i in range(len(s)):\n",
    "            for j in range(i, len(s) + 1):\n",
    "                sub = s[i:j]\n",
    "                changes_needed = len(sub) - sub.count(char)\n",
    "                \n",
    "                if changes_needed <= k:\n",
    "                    max_length = max(max_length, len(sub))\n",
    "    \n",
    "    return max_length\n",
    "\n",
    "# Test cases\n",
    "print(character_replacement(\"ABAB\", 2))  # Output: 4\n",
    "print(character_replacement(\"AABABBA\", 1))  # Output: 4\n"
   ]
  },
  {
   "cell_type": "code",
   "execution_count": null,
   "id": "200cd373-57b1-4e10-a5db-3594cdd88828",
   "metadata": {},
   "outputs": [],
   "source": []
  },
  {
   "cell_type": "markdown",
   "id": "fc8152ec-6649-4378-8ad1-1781aca98801",
   "metadata": {},
   "source": [
    "Here's a simple brute-force solution without using any optimized algorithm like the sliding window approach. This approach checks all possible substrings by replacing characters and counts the longest valid substring.  \n",
    "\n",
    "```python\n",
    "from itertools import combinations\n",
    "\n",
    "def characterReplacement(s: str, k: int) -> int:\n",
    "    max_length = 0\n",
    "    unique_chars = set(s)\n",
    "    \n",
    "    for char in unique_chars:  # Try making the substring of all 'char'\n",
    "        for i in range(len(s)):\n",
    "            for j in range(i, len(s) + 1):\n",
    "                sub = s[i:j]\n",
    "                changes_needed = len(sub) - sub.count(char)\n",
    "                \n",
    "                if changes_needed <= k:\n",
    "                    max_length = max(max_length, len(sub))\n",
    "    \n",
    "    return max_length\n",
    "\n",
    "# Test cases\n",
    "print(characterReplacement(\"ABAB\", 2))  # Output: 4\n",
    "print(characterReplacement(\"AABABBA\", 1))  # Output: 4\n",
    "```\n",
    "\n",
    "### **Explanation**\n",
    "1. **Iterate over all unique characters** in the string.\n",
    "2. **Try making a substring of all one character** by replacing other characters.\n",
    "3. **Check all possible substrings** using nested loops.\n",
    "4. **Count the number of replacements** needed to make the substring uniform.\n",
    "5. If the number of changes is within `k`, update `max_length`.\n",
    "\n",
    "### **Complexity**\n",
    "- **Time Complexity:** O(N³) (due to three nested loops).\n",
    "- **Space Complexity:** O(1) (no extra space except variables).\n",
    "\n",
    "This is a very simple brute-force approach, but it is inefficient for large inputs. 🚀 Let me know if you want a better version!"
   ]
  },
  {
   "cell_type": "markdown",
   "id": "725f2a71-2531-4bce-9492-0547a1db7b45",
   "metadata": {},
   "source": [
    "Here's a simple brute-force solution without using any optimized algorithm like the sliding window approach. This approach checks all possible substrings by replacing characters and counts the longest valid substring.  \n",
    "\n",
    "```python\n",
    "\n",
    "def characterReplacement(s: str, k: int) -> int:\n",
    "    max_length = 0\n",
    "    unique_chars = set(s)\n",
    "    \n",
    "    for char in unique_chars:  # Try making the substring of all 'char'\n",
    "        for i in range(len(s)):\n",
    "            for j in range(i, len(s) + 1):\n",
    "                sub = s[i:j]\n",
    "                changes_needed = len(sub) - sub.count(char)\n",
    "                \n",
    "                if changes_needed <= k:\n",
    "                    max_length = max(max_length, len(sub))\n",
    "    \n",
    "    return max_length\n",
    "\n",
    "# Test cases\n",
    "print(characterReplacement(\"ABAB\", 2))  # Output: 4\n",
    "print(characterReplacement(\"AABABBA\", 1))  # Output: 4\n",
    "```\n",
    "\n",
    "### **Explanation**\n",
    "1. **Iterate over all unique characters** in the string.\n",
    "2. **Try making a substring of all one character** by replacing other characters.\n",
    "3. **Check all possible substrings** using nested loops.\n",
    "4. **Count the number of replacements** needed to make the substring uniform.\n",
    "5. If the number of changes is within `k`, update `max_length`.\n",
    "\n",
    "### **Complexity**\n",
    "- **Time Complexity:** O(N³) (due to three nested loops).\n",
    "- **Space Complexity:** O(1) (no extra space except variables).\n",
    "\n",
    "This is a very simple brute-force approach, but it is inefficient for large inputs. 🚀 Let me know if you want a better version!\n"
   ]
  },
  {
   "cell_type": "code",
   "execution_count": 6,
   "id": "dcb32809-f13d-4342-9b47-ab10345bcea6",
   "metadata": {},
   "outputs": [
    {
     "name": "stdout",
     "output_type": "stream",
     "text": [
      "4\n",
      "4\n"
     ]
    }
   ],
   "source": [
    "def character_replacement(s: str, k: int) -> int:\n",
    "    max_length = 0\n",
    "    unique_chars = set(s)\n",
    "    \n",
    "    for char in unique_chars:  \n",
    "        for i in range(len(s)):\n",
    "            for j in range(i, len(s) + 1):\n",
    "                sub = s[i:j]\n",
    "                changes_needed = len(sub) - sub.count(char)\n",
    "                \n",
    "                if changes_needed <= k:\n",
    "                    max_length = max(max_length, len(sub))\n",
    "    \n",
    "    return max_length\n",
    "\n",
    "# Test cases\n",
    "print(character_replacement(\"ABAB\", 2))  # Output: 4\n",
    "print(character_replacement(\"AABABBA\", 1))  # Output: 4\n"
   ]
  },
  {
   "cell_type": "code",
   "execution_count": null,
   "id": "0344e914-9976-4d6d-b453-5edbfbc5583a",
   "metadata": {},
   "outputs": [],
   "source": []
  }
 ],
 "metadata": {
  "kernelspec": {
   "display_name": "Python [conda env:base] *",
   "language": "python",
   "name": "conda-base-py"
  },
  "language_info": {
   "codemirror_mode": {
    "name": "ipython",
    "version": 3
   },
   "file_extension": ".py",
   "mimetype": "text/x-python",
   "name": "python",
   "nbconvert_exporter": "python",
   "pygments_lexer": "ipython3",
   "version": "3.12.7"
  }
 },
 "nbformat": 4,
 "nbformat_minor": 5
}

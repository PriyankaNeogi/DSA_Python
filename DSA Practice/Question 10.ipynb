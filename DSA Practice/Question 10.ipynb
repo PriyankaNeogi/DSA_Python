{
 "cells": [
  {
   "cell_type": "markdown",
   "id": "a1db709f-e6c3-408c-8da9-f9fea637b3aa",
   "metadata": {},
   "source": [
    "## Day 5\n",
    "## Question 10: Largest Number \n",
    "\n",
    "Given a list of non-negative integers nums, arrange them such that they form the largest number anc\n",
    "return it.\n",
    "Since the result may be very large, so you need to return a string instead of an integer.\n",
    "\n",
    "\n",
    "Test Cases\n",
    "\n",
    "Example 1:\n",
    "\n",
    "Input: nums = [10,2]\n",
    "\n",
    "Output: \"210\"\n",
    "\n",
    "Example 2:\n",
    "\n",
    "Input: nums = [3,30,34,5,9]\n",
    "\n",
    "Output: \"9534330\""
   ]
  },
  {
   "cell_type": "code",
   "execution_count": 9,
   "id": "adafed19-54ff-419c-8753-15aa355b136e",
   "metadata": {},
   "outputs": [
    {
     "name": "stdout",
     "output_type": "stream",
     "text": [
      "210\n",
      "9534330\n"
     ]
    }
   ],
   "source": [
    "def largest_num(nums):\n",
    "    nums = list(map(str, nums))\n",
    "    \n",
    "    for i in range(len(nums)):\n",
    "        for j in range(i + 1, len(nums)):\n",
    "            if nums[i] + nums[j] < nums[j] + nums[i]:\n",
    "                nums[i], nums[j] = nums[j], nums[i]\n",
    "    \n",
    "    result = ''.join(nums)\n",
    "    return '0' if result[0] == '0' else result\n",
    "\n",
    "print(largest_num([10, 2]))          # Output: \"210\"\n",
    "print(largest_num([3, 30, 34, 5, 9])) # Output: \"9534330\"\n",
    "\n"
   ]
  },
  {
   "cell_type": "code",
   "execution_count": null,
   "id": "ac2ef79f-ea26-4722-9877-763271aa786c",
   "metadata": {},
   "outputs": [],
   "source": []
  }
 ],
 "metadata": {
  "kernelspec": {
   "display_name": "Python [conda env:base] *",
   "language": "python",
   "name": "conda-base-py"
  },
  "language_info": {
   "codemirror_mode": {
    "name": "ipython",
    "version": 3
   },
   "file_extension": ".py",
   "mimetype": "text/x-python",
   "name": "python",
   "nbconvert_exporter": "python",
   "pygments_lexer": "ipython3",
   "version": "3.12.7"
  }
 },
 "nbformat": 4,
 "nbformat_minor": 5
}

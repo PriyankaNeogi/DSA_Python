{
 "cells": [
  {
   "cell_type": "markdown",
   "id": "e95302c6-d922-4cf6-9d5d-cb89cd264537",
   "metadata": {},
   "source": [
    "\n",
    "## Day 7\n",
    "## Question 13: Valid Triangle \n",
    "\n",
    "Given an integer array nums, return the number of triplets chosen from the array that car\n",
    "make triangles if we take them as side lengths of a triangle.\n",
    "\n",
    "Test Cases\n",
    "\n",
    "Example 1:\n",
    "\n",
    "Input: nums = [2,2,3,4]\n",
    "\n",
    "Output: 3\n",
    "\n",
    "Explanation: Valid combinations are:\n",
    "\n",
    "2,3,4 (using the first 2)\n",
    "\n",
    "2,3,4 (using the second 2)\n",
    "\n",
    "2, 2, 3\n",
    "\n",
    "input\n",
    "\n",
    "nums = [4,2,3,4]\n",
    "\n",
    "output : 4"
   ]
  },
  {
   "cell_type": "code",
   "execution_count": 7,
   "id": "cf1a5040-511e-4625-9660-11b57081df67",
   "metadata": {},
   "outputs": [
    {
     "name": "stdout",
     "output_type": "stream",
     "text": [
      "3\n",
      "4\n"
     ]
    }
   ],
   "source": [
    "def valid_triangle(nums):\n",
    "    nums.sort()\n",
    "    count = 0\n",
    "    n = len(nums)\n",
    "\n",
    "    for i in range(n):\n",
    "        for j in range(i + 1, n):\n",
    "            for k in range(j + 1, n):\n",
    "                if nums[i] + nums[j] > nums[k]:\n",
    "                    count += 1\n",
    "                else:\n",
    "                    break\n",
    "    \n",
    "    return count\n",
    "\n",
    "print(valid_triangle([2, 2, 3, 4]))  # Output: 3\n",
    "print(valid_triangle([4, 2, 3, 4]))  # Output: 4\n"
   ]
  },
  {
   "cell_type": "code",
   "execution_count": null,
   "id": "32f79976-2ff6-41ee-b8f1-b211fdff7a47",
   "metadata": {},
   "outputs": [],
   "source": []
  }
 ],
 "metadata": {
  "kernelspec": {
   "display_name": "Python [conda env:base] *",
   "language": "python",
   "name": "conda-base-py"
  },
  "language_info": {
   "codemirror_mode": {
    "name": "ipython",
    "version": 3
   },
   "file_extension": ".py",
   "mimetype": "text/x-python",
   "name": "python",
   "nbconvert_exporter": "python",
   "pygments_lexer": "ipython3",
   "version": "3.12.7"
  }
 },
 "nbformat": 4,
 "nbformat_minor": 5
}

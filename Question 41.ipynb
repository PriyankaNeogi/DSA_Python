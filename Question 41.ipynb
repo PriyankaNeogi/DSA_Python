{
 "cells": [
  {
   "cell_type": "markdown",
   "id": "309d878e-45f7-40b7-a717-f8760f148477",
   "metadata": {},
   "source": [
    "https://leetcode.com/problems/longest-subarray-of-1s-after-deleting-one-element/description/?envType=study-plan-v2&envId=leetcode-75\n",
    "\n",
    "Given a binary array nums, you should delete one element from it.\n",
    "\n",
    "Return the size of the longest non-empty subarray containing only 1's in the resulting array. Return 0 if there is no such subarray.\n",
    "\n",
    " \n",
    "\n",
    "Example 1:\n",
    "\n",
    "Input: nums = [1,1,0,1]\n",
    "Output: 3\n",
    "Explanation: After deleting the number in position 2, [1,1,1] contains 3 numbers with value of 1's.\n",
    "Example 2:\n",
    "\n",
    "Input: nums = [0,1,1,1,0,1,1,0,1]\n",
    "Output: 5\n",
    "Explanation: After deleting the number in position 4, [0,1,1,1,1,1,0,1] longest subarray with value of 1's is [1,1,1,1,1].\n",
    "Example 3:\n",
    "\n",
    "Input: nums = [1,1,1]\n",
    "Output: 2\n",
    "Explanation: You must delete one element.\n",
    " \n",
    "\n",
    "Constraints:\n",
    "\n",
    "1 <= nums.length <= 105\n",
    "nums[i] is either 0 or 1."
   ]
  },
  {
   "cell_type": "code",
   "execution_count": 6,
   "id": "7a85a274-4f7f-4744-b0ba-2d11e6cd58a3",
   "metadata": {},
   "outputs": [
    {
     "name": "stdout",
     "output_type": "stream",
     "text": [
      "3\n",
      "5\n",
      "2\n"
     ]
    }
   ],
   "source": [
    "def longestSubarray(nums):\n",
    "    left = 0\n",
    "    zero_count = 0\n",
    "    max_len = 0\n",
    "\n",
    "    for right in range(len(nums)):\n",
    "        if nums[right] == 0:\n",
    "            zero_count += 1\n",
    "\n",
    "        # If more than one zero, move the left pointer\n",
    "        while zero_count > 1:\n",
    "            if nums[left] == 0:\n",
    "                zero_count -= 1\n",
    "            left += 1\n",
    "\n",
    "        # Length of window minus 1 (because one deletion is required)\n",
    "        max_len = max(max_len, right - left)\n",
    "\n",
    "    return max_len\n",
    "\n",
    "\n",
    "print(longestSubarray([1, 1, 0, 1]))              # Output: 3\n",
    "print(longestSubarray([0, 1, 1, 1, 0, 1, 1, 0, 1])) # Output: 5\n",
    "print(longestSubarray([1, 1, 1]))                 # Output: 2"
   ]
  },
  {
   "cell_type": "code",
   "execution_count": 8,
   "id": "11106929-6812-45d4-9349-201081353b60",
   "metadata": {},
   "outputs": [
    {
     "name": "stdout",
     "output_type": "stream",
     "text": [
      "3\n",
      "5\n",
      "2\n"
     ]
    }
   ],
   "source": [
    "def longest_ones_after_deletion(arr):\n",
    "    start = 0\n",
    "    zeros = 0\n",
    "    max_length = 0\n",
    "\n",
    "    for end in range(len(arr)):\n",
    "        if arr[end] == 0:\n",
    "            zeros += 1\n",
    "\n",
    "        while zeros > 1:\n",
    "            if arr[start] == 0:\n",
    "                zeros -= 1\n",
    "            start += 1\n",
    "\n",
    "        # Since we must delete one element\n",
    "        max_length = max(max_length, end - start)\n",
    "\n",
    "    return max_length\n",
    "\n",
    "\n",
    "print(longest_ones_after_deletion([1, 1, 0, 1]))  # Output: 3\n",
    "print(longest_ones_after_deletion([0, 1, 1, 1, 0, 1, 1, 0, 1]))  # Output: 5\n",
    "print(longest_ones_after_deletion([1, 1, 1]))  # Output: 2"
   ]
  },
  {
   "cell_type": "code",
   "execution_count": null,
   "id": "b9809e21-6341-4c16-b191-9a180307a535",
   "metadata": {},
   "outputs": [],
   "source": []
  },
  {
   "cell_type": "code",
   "execution_count": 1,
   "id": "d3eed367-6dba-4c1d-a3cc-1132362eb49f",
   "metadata": {},
   "outputs": [
    {
     "name": "stdout",
     "output_type": "stream",
     "text": [
      "3\n",
      "5\n",
      "2\n"
     ]
    }
   ],
   "source": [
    "def longest_ones_after_deletion(arr):\n",
    "    start = 0\n",
    "    zeros = 0\n",
    "    max_length = 0\n",
    "\n",
    "    for end in range(len(arr)):\n",
    "        if arr[end] == 0:\n",
    "            zeros += 1\n",
    "\n",
    "        while zeros > 1:\n",
    "            if arr[start] == 0:\n",
    "                zeros -= 1\n",
    "            start += 1\n",
    "\n",
    "        # Since we must delete one element\n",
    "        max_length = max(max_length, end - start)\n",
    "\n",
    "    return max_length\n",
    "\n",
    "\n",
    "print(longest_ones_after_deletion([1, 1, 0, 1]))  # Output: 3\n",
    "print(longest_ones_after_deletion([0, 1, 1, 1, 0, 1, 1, 0, 1]))  # Output: 5\n",
    "print(longest_ones_after_deletion([1, 1, 1]))  # Output: 2"
   ]
  },
  {
   "cell_type": "code",
   "execution_count": null,
   "id": "02b5e0e4-babb-4558-a15b-de936a409cc5",
   "metadata": {},
   "outputs": [],
   "source": []
  }
 ],
 "metadata": {
  "kernelspec": {
   "display_name": "Python [conda env:base] *",
   "language": "python",
   "name": "conda-base-py"
  },
  "language_info": {
   "codemirror_mode": {
    "name": "ipython",
    "version": 3
   },
   "file_extension": ".py",
   "mimetype": "text/x-python",
   "name": "python",
   "nbconvert_exporter": "python",
   "pygments_lexer": "ipython3",
   "version": "3.12.7"
  }
 },
 "nbformat": 4,
 "nbformat_minor": 5
}
